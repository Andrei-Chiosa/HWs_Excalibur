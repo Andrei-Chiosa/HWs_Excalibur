{
 "cells": [
  {
   "cell_type": "code",
   "execution_count": 1,
   "metadata": {
    "ExecuteTime": {
     "end_time": "2024-11-13T08:06:13.199062Z",
     "start_time": "2024-11-13T08:06:12.480160Z"
    }
   },
   "outputs": [],
   "source": [
    "import numpy as np\n",
    "from numpy import dtype, broadcast\n",
    "from numpy.ma.core import masked\n",
    "# make sure to install the latest version of sigmoid_check with pip install sigmoid_check==0.1.3\n",
    "from sigmoid_check.excalibur import * "
   ]
  },
  {
   "cell_type": "code",
   "execution_count": 2,
   "metadata": {
    "ExecuteTime": {
     "end_time": "2024-11-13T08:06:13.213392Z",
     "start_time": "2024-11-13T08:06:13.210335Z"
    }
   },
   "outputs": [
    {
     "name": "stdout",
     "output_type": "stream",
     "text": [
      "✅ Great job! Exercise completed successfully.\n"
     ]
    }
   ],
   "source": [
    "# Given a list of integers `int_list`, create a NumPy array named `array_from_list`.\n",
    "@check_numpy_1\n",
    "def numpy_1(int_list):\n",
    "    # This line is mandatory and should not be removed.\n",
    "    ex_stat_init = True\n",
    "    \n",
    "    # BELOW GOES YOUR CODE\n",
    "    array_from_list = np.array(int_list)\n",
    "    # ABOVE GOES YOUR CODE\n",
    "    return {\"array_from_list\": array_from_list}\n",
    "\n",
    "numpy_1()"
   ]
  },
  {
   "cell_type": "code",
   "execution_count": 3,
   "metadata": {
    "ExecuteTime": {
     "end_time": "2024-11-13T08:06:13.329013Z",
     "start_time": "2024-11-13T08:06:13.326101Z"
    }
   },
   "outputs": [
    {
     "name": "stdout",
     "output_type": "stream",
     "text": [
      "✅ Great job! Exercise completed successfully.\n"
     ]
    }
   ],
   "source": [
    "# Given two NumPy arrays `array1` and `array2` of the same shape, save their element-wise addition to `added_array`.\n",
    "@check_numpy_2\n",
    "def numpy_2(array1, array2):\n",
    "    # This line is mandatory and should not be removed.\n",
    "    ex_stat_init = True\n",
    "\n",
    "    # BELOW GOES YOUR CODE\n",
    "    added_array  = array1 + array2\n",
    "    # ABOVE GOES YOUR CODE\n",
    "    return {\"added_array\": added_array}\n",
    "\n",
    "numpy_2()"
   ]
  },
  {
   "cell_type": "code",
   "execution_count": 4,
   "metadata": {
    "ExecuteTime": {
     "end_time": "2024-11-13T08:06:13.430211Z",
     "start_time": "2024-11-13T08:06:13.427546Z"
    }
   },
   "outputs": [
    {
     "name": "stdout",
     "output_type": "stream",
     "text": [
      "✅ Great job! Exercise completed successfully.\n"
     ]
    }
   ],
   "source": [
    "# Given two NumPy arrays `arrayA` and `arrayB`, calculate the element-wise subtraction of `arrayB` from `arrayA` and store the result in `subtracted_array`.\n",
    "@check_numpy_3\n",
    "def numpy_3(arrayA, arrayB):\n",
    "    # This line is mandatory and should not be removed.\n",
    "    ex_stat_init = True\n",
    "\n",
    "    # BELOW GOES YOUR CODE\n",
    "    subtracted_array = arrayA - arrayB\n",
    "    # ABOVE GOES YOUR CODE\n",
    "    return {\"subtracted_array\": subtracted_array}\n",
    "\n",
    "numpy_3()"
   ]
  },
  {
   "cell_type": "code",
   "execution_count": 5,
   "metadata": {
    "ExecuteTime": {
     "end_time": "2024-11-13T08:06:13.495311Z",
     "start_time": "2024-11-13T08:06:13.492257Z"
    }
   },
   "outputs": [
    {
     "name": "stdout",
     "output_type": "stream",
     "text": [
      "✅ Great job! Exercise completed successfully.\n"
     ]
    }
   ],
   "source": [
    "# Given two NumPy arrays `num_array1` and `num_array2` of the same shape, find their element-wise multiplication and store in `multiplied_array`.\n",
    "@check_numpy_4\n",
    "def numpy_4(num_array1, num_array2):\n",
    "    # This line is mandatory and should not be removed.\n",
    "    ex_stat_init = True\n",
    "\n",
    "    # BELOW GOES YOUR CODE\n",
    "    multiplied_array = num_array1 * num_array2\n",
    "    # ABOVE GOES YOUR CODE\n",
    "    return {\"multiplied_array\": multiplied_array}\n",
    "\n",
    "numpy_4()"
   ]
  },
  {
   "cell_type": "code",
   "execution_count": 6,
   "metadata": {
    "ExecuteTime": {
     "end_time": "2024-11-13T08:06:13.580093Z",
     "start_time": "2024-11-13T08:06:13.576506Z"
    }
   },
   "outputs": [
    {
     "name": "stdout",
     "output_type": "stream",
     "text": [
      "✅ Great job! Exercise completed successfully.\n"
     ]
    }
   ],
   "source": [
    "# Given two NumPy arrays `dividend_array` and `divisor_array` of the same shape, perform element-wise division and assign the result to `divided_array`.\n",
    "@check_numpy_5\n",
    "def numpy_5(dividend_array, divisor_array):\n",
    "    # This line is mandatory and should not be removed.\n",
    "    ex_stat_init = True\n",
    "\n",
    "    # BELOW GOES YOUR CODE\n",
    "    divided_array =  dividend_array /divisor_array\n",
    "    # ABOVE GOES YOUR CODE\n",
    "    return {\"divided_array\": divided_array}\n",
    "\n",
    "numpy_5()"
   ]
  },
  {
   "cell_type": "code",
   "execution_count": 7,
   "metadata": {
    "ExecuteTime": {
     "end_time": "2024-11-13T08:06:13.649047Z",
     "start_time": "2024-11-13T08:06:13.646732Z"
    }
   },
   "outputs": [
    {
     "name": "stdout",
     "output_type": "stream",
     "text": [
      "✅ Great job! Exercise completed successfully.\n"
     ]
    }
   ],
   "source": [
    "# Given a NumPy array `base_array` and a scalar `exponent`, compute the element-wise exponentiation and store the result in `exponentiated_array`.\n",
    "@check_numpy_6\n",
    "def numpy_6(base_array, exponent):\n",
    "    # This line is mandatory and should not be removed.\n",
    "    ex_stat_init = True\n",
    "\n",
    "    # BELOW GOES YOUR CODE\n",
    "    exponentiated_array = base_array ** exponent\n",
    "    # ABOVE GOES YOUR CODE\n",
    "    return {\"exponentiated_array\": exponentiated_array}\n",
    "\n",
    "numpy_6()"
   ]
  },
  {
   "cell_type": "code",
   "execution_count": 8,
   "metadata": {
    "ExecuteTime": {
     "end_time": "2024-11-13T08:06:13.693242Z",
     "start_time": "2024-11-13T08:06:13.690724Z"
    }
   },
   "outputs": [
    {
     "name": "stdout",
     "output_type": "stream",
     "text": [
      "✅ Great job! Exercise completed successfully.\n"
     ]
    }
   ],
   "source": [
    "# Given a list of numbers `float_list`, create a NumPy array named `float_array` with a float data type.\n",
    "@check_numpy_7\n",
    "def numpy_7(float_list):\n",
    "    # This line is mandatory and should not be removed.\n",
    "    ex_stat_init = True\n",
    "\n",
    "    # BELOW GOES YOUR CODE\n",
    "    float_array = np.array(float_list, dtype = float)\n",
    "    # ABOVE GOES YOUR CODE\n",
    "    return {\"float_array\": float_array}\n",
    "\n",
    "numpy_7()"
   ]
  },
  {
   "cell_type": "code",
   "execution_count": 9,
   "metadata": {
    "ExecuteTime": {
     "end_time": "2024-11-13T08:06:13.751636Z",
     "start_time": "2024-11-13T08:06:13.749153Z"
    }
   },
   "outputs": [
    {
     "name": "stdout",
     "output_type": "stream",
     "text": [
      "✅ Great job! Exercise completed successfully.\n"
     ]
    }
   ],
   "source": [
    "# Use the list of lists `matrix_data` to create a 2-dimensional NumPy array named `matrix`.\n",
    "@check_numpy_8\n",
    "def numpy_8(matrix_data):\n",
    "    # This line is mandatory and should not be removed.\n",
    "    ex_stat_init = True\n",
    "\n",
    "    # BELOW GOES YOUR CODE\n",
    "    matrix = np.array(matrix_data)\n",
    "    # ABOVE GOES YOUR CODE\n",
    "    return {\"matrix\": matrix}\n",
    "\n",
    "numpy_8()"
   ]
  },
  {
   "cell_type": "code",
   "execution_count": 10,
   "metadata": {
    "ExecuteTime": {
     "end_time": "2024-11-13T08:06:13.797845Z",
     "start_time": "2024-11-13T08:06:13.795536Z"
    }
   },
   "outputs": [
    {
     "name": "stdout",
     "output_type": "stream",
     "text": [
      "✅ Great job! Exercise completed successfully.\n"
     ]
    }
   ],
   "source": [
    "# Given a NumPy array `original_array` and the new shape tuple `new_shape`, reshape the array and store it in `reshaped_array`.\n",
    "@check_numpy_9\n",
    "def numpy_9(original_array, new_shape):\n",
    "    # This line is mandatory and should not be removed.\n",
    "    ex_stat_init = True\n",
    "\n",
    "    # BELOW GOES YOUR CODE\n",
    "    reshaped_array = original_array.reshape(new_shape)\n",
    "    # ABOVE GOES YOUR CODE\n",
    "    return {\"reshaped_array\": reshaped_array}\n",
    "\n",
    "numpy_9()"
   ]
  },
  {
   "cell_type": "code",
   "execution_count": 11,
   "metadata": {
    "ExecuteTime": {
     "end_time": "2024-11-13T08:06:13.855032Z",
     "start_time": "2024-11-13T08:06:13.852541Z"
    }
   },
   "outputs": [
    {
     "name": "stdout",
     "output_type": "stream",
     "text": [
      "✅ Great job! Exercise completed successfully.\n"
     ]
    }
   ],
   "source": [
    "# Using NumPy's `arange`, generate an array named `range_array` from 0 to `end` with a step of `step`.\n",
    "@check_numpy_10\n",
    "def numpy_10(end, step):\n",
    "    # This line is mandatory and should not be removed.\n",
    "    ex_stat_init = True\n",
    "\n",
    "    # BELOW GOES YOUR CODE\n",
    "    range_array = np.arange(0,end,step)\n",
    "    # ABOVE GOES YOUR CODE\n",
    "    return {\"range_array\": range_array}\n",
    "\n",
    "numpy_10()"
   ]
  },
  {
   "cell_type": "code",
   "execution_count": 12,
   "metadata": {
    "ExecuteTime": {
     "end_time": "2024-11-13T08:06:13.898603Z",
     "start_time": "2024-11-13T08:06:13.896206Z"
    }
   },
   "outputs": [
    {
     "name": "stdout",
     "output_type": "stream",
     "text": [
      "✅ Great job! Exercise completed successfully.\n"
     ]
    }
   ],
   "source": [
    "# Use NumPy's `linspace` to create an array named `linspace_array` with `num_points` evenly spaced points between `start` and `stop`.\n",
    "@check_numpy_11\n",
    "def numpy_11(start, stop, num_points):\n",
    "    # This line is mandatory and should not be removed.\n",
    "    ex_stat_init = True\n",
    "\n",
    "    # BELOW GOES YOUR CODE\n",
    "    linspace_array = np.linspace(start,stop, num_points)\n",
    "    # ABOVE GOES YOUR CODE\n",
    "    return {\"linspace_array\": linspace_array}\n",
    "\n",
    "numpy_11()"
   ]
  },
  {
   "cell_type": "code",
   "execution_count": 13,
   "metadata": {
    "ExecuteTime": {
     "end_time": "2024-11-13T08:06:13.956497Z",
     "start_time": "2024-11-13T08:06:13.953950Z"
    }
   },
   "outputs": [
    {
     "name": "stdout",
     "output_type": "stream",
     "text": [
      "✅ Great job! Exercise completed successfully.\n"
     ]
    }
   ],
   "source": [
    "# Create a NumPy array named `zero_array` with a shape specified by `shape` filled with zeros.\n",
    "@check_numpy_12\n",
    "def numpy_12(shape):\n",
    "    # This line is mandatory and should not be removed.\n",
    "    ex_stat_init = True\n",
    "\n",
    "    # BELOW GOES YOUR CODE\n",
    "    zero_array = np.zeros(shape)\n",
    "    # ABOVE GOES YOUR CODE\n",
    "    return {\"zero_array\": zero_array}\n",
    "\n",
    "numpy_12()"
   ]
  },
  {
   "cell_type": "code",
   "execution_count": 14,
   "metadata": {
    "ExecuteTime": {
     "end_time": "2024-11-13T08:06:14.001378Z",
     "start_time": "2024-11-13T08:06:13.998414Z"
    }
   },
   "outputs": [
    {
     "name": "stdout",
     "output_type": "stream",
     "text": [
      "✅ Great job! Exercise completed successfully.\n"
     ]
    }
   ],
   "source": [
    "# Create a NumPy array named `ones_array` with a shape given by `shape` filled with ones.\n",
    "@check_numpy_13\n",
    "def numpy_13(shape):\n",
    "    # This line is mandatory and should not be removed.\n",
    "    ex_stat_init = True\n",
    "\n",
    "    # BELOW GOES YOUR CODE\n",
    "    ones_array = np.ones(shape)\n",
    "    # ABOVE GOES YOUR CODE\n",
    "    return {\"ones_array\": ones_array}\n",
    "\n",
    "numpy_13()"
   ]
  },
  {
   "cell_type": "code",
   "execution_count": 15,
   "metadata": {
    "ExecuteTime": {
     "end_time": "2024-11-13T08:06:14.060666Z",
     "start_time": "2024-11-13T08:06:14.057950Z"
    }
   },
   "outputs": [
    {
     "name": "stdout",
     "output_type": "stream",
     "text": [
      "✅ Great job! Exercise completed successfully.\n"
     ]
    }
   ],
   "source": [
    "# Given a size `n`, generate an identity matrix named `identity_matrix` of size `n x n`.\n",
    "@check_numpy_14\n",
    "def numpy_14(n):\n",
    "    # This line is mandatory and should not be removed.\n",
    "    ex_stat_init = True\n",
    "\n",
    "    # BELOW GOES YOUR CODE\n",
    "    identity_matrix = np.identity(n) #np.identity(n) creates an identity matrix of size n x n.\n",
    "    # ABOVE GOES YOUR CODE\n",
    "    return {\"identity_matrix\": identity_matrix}\n",
    "\n",
    "numpy_14()"
   ]
  },
  {
   "cell_type": "code",
   "execution_count": 16,
   "metadata": {
    "ExecuteTime": {
     "end_time": "2024-11-13T08:06:14.118467Z",
     "start_time": "2024-11-13T08:06:14.116152Z"
    }
   },
   "outputs": [
    {
     "name": "stdout",
     "output_type": "stream",
     "text": [
      "✅ Great job! Exercise completed successfully.\n"
     ]
    }
   ],
   "source": [
    "# Given a NumPy array `matrix_array`, extract its shape and assign it to `array_shape`.\n",
    "@check_numpy_15\n",
    "def numpy_15(matrix_array):\n",
    "    # This line is mandatory and should not be removed.\n",
    "    ex_stat_init = True\n",
    "\n",
    "    # BELOW GOES YOUR CODE\n",
    "    array_shape = np.shape(matrix_array)\n",
    "    # ABOVE GOES YOUR CODE\n",
    "    return {\"array_shape\": array_shape}\n",
    "\n",
    "numpy_15()"
   ]
  },
  {
   "cell_type": "code",
   "execution_count": 17,
   "metadata": {
    "ExecuteTime": {
     "end_time": "2024-11-13T08:06:14.163522Z",
     "start_time": "2024-11-13T08:06:14.161516Z"
    }
   },
   "outputs": [
    {
     "name": "stdout",
     "output_type": "stream",
     "text": [
      "✅ Great job! Exercise completed successfully.\n"
     ]
    }
   ],
   "source": [
    "# Determine the number of dimensions of the NumPy array `dim_array` and store it in `num_dimensions`.\n",
    "@check_numpy_16\n",
    "def numpy_16(dim_array):\n",
    "    # This line is mandatory and should not be removed.\n",
    "    ex_stat_init = True\n",
    "\n",
    "    # BELOW GOES YOUR CODE\n",
    "    num_dimensions = np.ndim(dim_array) #ndim - umber of dimensions\n",
    "    # ABOVE GOES YOUR CODE\n",
    "    return {\"num_dimensions\": num_dimensions}\n",
    "\n",
    "numpy_16()"
   ]
  },
  {
   "cell_type": "code",
   "execution_count": 18,
   "metadata": {
    "ExecuteTime": {
     "end_time": "2024-11-13T08:06:14.209099Z",
     "start_time": "2024-11-13T08:06:14.206959Z"
    }
   },
   "outputs": [
    {
     "name": "stdout",
     "output_type": "stream",
     "text": [
      "✅ Great job! Exercise completed successfully.\n"
     ]
    }
   ],
   "source": [
    "# Calculate the total number of elements in the NumPy array `elements_array` and store it in `total_elements`.\n",
    "@check_numpy_17\n",
    "def numpy_17(elements_array):\n",
    "    # This line is mandatory and should not be removed.\n",
    "    ex_stat_init = True\n",
    "\n",
    "    # BELOW GOES YOUR CODE\n",
    "    total_elements = np.size(elements_array)\n",
    "    # ABOVE GOES YOUR CODE\n",
    "    return {\"total_elements\": total_elements}\n",
    "\n",
    "numpy_17()"
   ]
  },
  {
   "cell_type": "code",
   "execution_count": 19,
   "metadata": {
    "ExecuteTime": {
     "end_time": "2024-11-13T08:06:14.267832Z",
     "start_time": "2024-11-13T08:06:14.265628Z"
    }
   },
   "outputs": [
    {
     "name": "stdout",
     "output_type": "stream",
     "text": [
      "✅ Great job! Exercise completed successfully.\n"
     ]
    }
   ],
   "source": [
    "# Assign the data type of elements in the NumPy array `type_array` to the variable `element_type`.\n",
    "@check_numpy_18\n",
    "def numpy_18(type_array):\n",
    "    # This line is mandatory and should not be removed.\n",
    "    ex_stat_init = True\n",
    "\n",
    "    # BELOW GOES YOUR CODE\n",
    "    element_type = np.array(type_array).dtype\n",
    "    # ABOVE GOES YOUR CODE\n",
    "    return {\"element_type\": element_type}\n",
    "\n",
    "numpy_18()"
   ]
  },
  {
   "cell_type": "code",
   "execution_count": 20,
   "metadata": {
    "ExecuteTime": {
     "end_time": "2024-11-13T08:06:14.311925Z",
     "start_time": "2024-11-13T08:06:14.309588Z"
    }
   },
   "outputs": [
    {
     "name": "stdout",
     "output_type": "stream",
     "text": [
      "✅ Great job! Exercise completed successfully.\n"
     ]
    }
   ],
   "source": [
    "# Compute the memory size (in bytes) of each element in the array `memory_array` and assign it to `element_size`.\n",
    "@check_numpy_19\n",
    "def numpy_19(memory_array):\n",
    "    # This line is mandatory and should not be removed.\n",
    "    ex_stat_init = True\n",
    "\n",
    "    # BELOW GOES YOUR CODE\n",
    "    element_size = memory_array.itemsize\n",
    "    # ABOVE GOES YOUR CODE\n",
    "    return {\"element_size\": element_size}\n",
    "\n",
    "numpy_19()"
   ]
  },
  {
   "cell_type": "code",
   "execution_count": 21,
   "metadata": {
    "ExecuteTime": {
     "end_time": "2024-11-13T08:06:14.368860Z",
     "start_time": "2024-11-13T08:06:14.365908Z"
    }
   },
   "outputs": [
    {
     "name": "stdout",
     "output_type": "stream",
     "text": [
      "✅ Great job! Exercise completed successfully.\n"
     ]
    }
   ],
   "source": [
    "# Convert the integer NumPy array `int_array` to a float array and save it in `float_converted_array`.\n",
    "@check_numpy_20\n",
    "def numpy_20(int_array):\n",
    "    # This line is mandatory and should not be removed.\n",
    "    ex_stat_init = True\n",
    "\n",
    "    # BELOW GOES YOUR CODE\n",
    "    float_converted_array = int_array.astype(float)\n",
    "    # ABOVE GOES YOUR CODE\n",
    "    return {\"float_converted_array\": float_converted_array}\n",
    "\n",
    "numpy_20()"
   ]
  },
  {
   "cell_type": "code",
   "execution_count": 22,
   "metadata": {
    "ExecuteTime": {
     "end_time": "2024-11-13T08:06:14.412667Z",
     "start_time": "2024-11-13T08:06:14.409881Z"
    }
   },
   "outputs": [
    {
     "name": "stdout",
     "output_type": "stream",
     "text": [
      "✅ Great job! Exercise completed successfully.\n"
     ]
    }
   ],
   "source": [
    "# Given a NumPy array `access_array` and an index `index`, assign the element at that index to `selected_element`.\n",
    "@check_numpy_21\n",
    "def numpy_21(access_array, index):\n",
    "    # This line is mandatory and should not be removed.\n",
    "    ex_stat_init = True\n",
    "\n",
    "    # BELOW GOES YOUR CODE\n",
    "    selected_element = access_array[index]\n",
    "    # ABOVE GOES YOUR CODE\n",
    "    return {\"selected_element\": selected_element}\n",
    "\n",
    "numpy_21()"
   ]
  },
  {
   "cell_type": "code",
   "execution_count": 23,
   "metadata": {
    "ExecuteTime": {
     "end_time": "2024-11-13T08:06:14.469731Z",
     "start_time": "2024-11-13T08:06:14.467077Z"
    }
   },
   "outputs": [
    {
     "name": "stdout",
     "output_type": "stream",
     "text": [
      "✅ Great job! Exercise completed successfully.\n"
     ]
    }
   ],
   "source": [
    "# Given a NumPy array `slice_array`, extract a slice using `start` and `end` indices, and store it in `sliced_array`.\n",
    "@check_numpy_22\n",
    "def numpy_22(slice_array, start, end):\n",
    "    # This line is mandatory and should not be removed.\n",
    "    ex_stat_init = True\n",
    "\n",
    "    # BELOW GOES YOUR CODE\n",
    "    sliced_array = slice_array[start:end]\n",
    "    # ABOVE GOES YOUR CODE\n",
    "    return {\"sliced_array\": sliced_array}\n",
    "\n",
    "numpy_22()"
   ]
  },
  {
   "cell_type": "code",
   "execution_count": 24,
   "metadata": {
    "ExecuteTime": {
     "end_time": "2024-11-13T08:06:14.512512Z",
     "start_time": "2024-11-13T08:06:14.510012Z"
    }
   },
   "outputs": [
    {
     "name": "stdout",
     "output_type": "stream",
     "text": [
      "✅ Great job! Exercise completed successfully.\n"
     ]
    }
   ],
   "source": [
    "# Increase each element of `one_d_array` by 5 and store the result in `increased_array`.\n",
    "@check_numpy_23\n",
    "def numpy_23(one_d_array):\n",
    "    # This line is mandatory and should not be removed.\n",
    "    ex_stat_init = True\n",
    "\n",
    "    # BELOW GOES YOUR CODE\n",
    "    increased_array = one_d_array + 5\n",
    "    # ABOVE GOES YOUR CODE\n",
    "    return {\"increased_array\": increased_array}\n",
    "\n",
    "numpy_23()"
   ]
  },
  {
   "cell_type": "code",
   "execution_count": 25,
   "metadata": {
    "ExecuteTime": {
     "end_time": "2024-11-13T08:06:14.571247Z",
     "start_time": "2024-11-13T08:06:14.568498Z"
    }
   },
   "outputs": [
    {
     "name": "stdout",
     "output_type": "stream",
     "text": [
      "✅ Great job! Exercise completed successfully.\n"
     ]
    }
   ],
   "source": [
    "# Double the values in the 2D array `multi_d_array` and save it in `doubled_array`.\n",
    "@check_numpy_24\n",
    "def numpy_24(multi_d_array):\n",
    "    # This line is mandatory and should not be removed.\n",
    "    ex_stat_init = True\n",
    "\n",
    "    # BELOW GOES YOUR CODE\n",
    "    doubled_array = multi_d_array * 2\n",
    "    # ABOVE GOES YOUR CODE\n",
    "    return {\"doubled_array\": doubled_array}\n",
    "\n",
    "numpy_24()"
   ]
  },
  {
   "cell_type": "code",
   "execution_count": 26,
   "metadata": {
    "ExecuteTime": {
     "end_time": "2024-11-13T08:06:14.615279Z",
     "start_time": "2024-11-13T08:06:14.612432Z"
    }
   },
   "outputs": [
    {
     "name": "stdout",
     "output_type": "stream",
     "text": [
      "✅ Great job! Exercise completed successfully.\n"
     ]
    }
   ],
   "source": [
    "# Given a NumPy array `mask_array` and a `mask_value`, create `filtered_array` containing only the elements of `mask_array` that are greater than `mask_value`.\n",
    "@check_numpy_25\n",
    "def numpy_25(mask_array, mask_value):\n",
    "    # This line is mandatory and should not be removed.\n",
    "    ex_stat_init = True\n",
    "\n",
    "    # BELOW GOES YOUR CODE\n",
    "    filtered_array = mask_array[mask_array > mask_value]\n",
    "    # ABOVE GOES YOUR CODE\n",
    "    return {\"filtered_array\": filtered_array}\n",
    "\n",
    "numpy_25()"
   ]
  },
  {
   "cell_type": "code",
   "execution_count": 27,
   "metadata": {
    "ExecuteTime": {
     "end_time": "2024-11-13T08:06:14.674659Z",
     "start_time": "2024-11-13T08:06:14.672596Z"
    }
   },
   "outputs": [
    {
     "name": "stdout",
     "output_type": "stream",
     "text": [
      "✅ Great job! Exercise completed successfully.\n"
     ]
    }
   ],
   "source": [
    "# Apply masking to the 2D array `multi_mask_array` that keeps all elements greater than the 'condition_value' and store the satisfying elements in `masked_array_2d`.\n",
    "@check_numpy_26\n",
    "def numpy_26(multi_mask_array, condition_value):\n",
    "    # This line is mandatory and should not be removed.\n",
    "    ex_stat_init = True\n",
    "\n",
    "    # BELOW GOES YOUR CODE\n",
    "    masked_array_2d = multi_mask_array[multi_mask_array>condition_value]\n",
    "    # ABOVE GOES YOUR CODE\n",
    "    return {\"masked_array_2d\": masked_array_2d}\n",
    "\n",
    "numpy_26()"
   ]
  },
  {
   "cell_type": "code",
   "execution_count": 28,
   "metadata": {
    "ExecuteTime": {
     "end_time": "2024-11-13T08:06:14.717801Z",
     "start_time": "2024-11-13T08:06:14.715001Z"
    }
   },
   "outputs": [
    {
     "name": "stdout",
     "output_type": "stream",
     "text": [
      "✅ Great job! Exercise completed successfully.\n"
     ]
    }
   ],
   "source": [
    "# Calculate the sum of elements for each column of a 2D array `sum_2d_array` and store it in `column_sums`.\n",
    "@check_numpy_27\n",
    "def numpy_27(sum_2d_array):\n",
    "    # This line is mandatory and should not be removed.\n",
    "    ex_stat_init = True\n",
    "\n",
    "    # BELOW GOES YOUR CODE\n",
    "    column_sums = sum(sum_2d_array)\n",
    "    # ABOVE GOES YOUR CODE\n",
    "    return {\"column_sums\": column_sums}\n",
    "\n",
    "numpy_27()"
   ]
  },
  {
   "cell_type": "code",
   "execution_count": 29,
   "metadata": {
    "ExecuteTime": {
     "end_time": "2024-11-13T08:06:14.771904Z",
     "start_time": "2024-11-13T08:06:14.769389Z"
    }
   },
   "outputs": [
    {
     "name": "stdout",
     "output_type": "stream",
     "text": [
      "✅ Great job! Exercise completed successfully.\n"
     ]
    }
   ],
   "source": [
    "# Find the minimum value in the NumPy array `min_array` and assign it to `min_value`.\n",
    "@check_numpy_28\n",
    "def numpy_28(min_array):\n",
    "    # This line is mandatory and should not be removed.\n",
    "    ex_stat_init = True\n",
    "\n",
    "    # BELOW GOES YOUR CODE\n",
    "    min_value = min_array.min()\n",
    "    # ABOVE GOES YOUR CODE\n",
    "    return {\"min_value\": min_value}\n",
    "\n",
    "numpy_28()"
   ]
  },
  {
   "cell_type": "code",
   "execution_count": 30,
   "metadata": {
    "ExecuteTime": {
     "end_time": "2024-11-13T08:06:14.813512Z",
     "start_time": "2024-11-13T08:06:14.811064Z"
    }
   },
   "outputs": [
    {
     "name": "stdout",
     "output_type": "stream",
     "text": [
      "✅ Great job! Exercise completed successfully.\n"
     ]
    }
   ],
   "source": [
    "# Find the maximum value in the NumPy array `max_array` and assign it to `max_value`.\n",
    "@check_numpy_29\n",
    "def numpy_29(max_array):\n",
    "    # This line is mandatory and should not be removed.\n",
    "    ex_stat_init = True\n",
    "\n",
    "    # BELOW GOES YOUR CODE\n",
    "    max_value = max_array.max()\n",
    "    # ABOVE GOES YOUR CODE\n",
    "    return {\"max_value\": max_value}\n",
    "\n",
    "numpy_29()"
   ]
  },
  {
   "cell_type": "code",
   "execution_count": 31,
   "metadata": {
    "ExecuteTime": {
     "end_time": "2024-11-13T08:06:14.870985Z",
     "start_time": "2024-11-13T08:06:14.868287Z"
    }
   },
   "outputs": [
    {
     "name": "stdout",
     "output_type": "stream",
     "text": [
      "✅ Great job! Exercise completed successfully.\n"
     ]
    }
   ],
   "source": [
    "# Calculate the mean of `mean_array` and store it in `mean_value`.\n",
    "@check_numpy_30\n",
    "def numpy_30(mean_array):\n",
    "    # This line is mandatory and should not be removed.\n",
    "    ex_stat_init = True\n",
    "\n",
    "    # BELOW GOES YOUR CODE\n",
    "    mean_value = mean_array.mean()\n",
    "    # ABOVE GOES YOUR CODE\n",
    "    return {\"mean_value\": mean_value}\n",
    "\n",
    "numpy_30()"
   ]
  },
  {
   "cell_type": "code",
   "execution_count": 32,
   "metadata": {
    "ExecuteTime": {
     "end_time": "2024-11-13T08:06:14.911564Z",
     "start_time": "2024-11-13T08:06:14.909445Z"
    }
   },
   "outputs": [
    {
     "name": "stdout",
     "output_type": "stream",
     "text": [
      "✅ Great job! Exercise completed successfully.\n"
     ]
    }
   ],
   "source": [
    "# Calculate the standard deviation of the NumPy array `std_array` and assign it to `std_dev`.\n",
    "@check_numpy_31\n",
    "def numpy_31(std_array):\n",
    "    # This line is mandatory and should not be removed.\n",
    "    ex_stat_init = True\n",
    "\n",
    "    # BELOW GOES YOUR CODE\n",
    "    std_dev = std_array.std()\n",
    "    # ABOVE GOES YOUR CODE\n",
    "    return {\"std_dev\": std_dev}\n",
    "\n",
    "numpy_31()"
   ]
  },
  {
   "cell_type": "code",
   "execution_count": 33,
   "metadata": {
    "ExecuteTime": {
     "end_time": "2024-11-13T08:06:14.966251Z",
     "start_time": "2024-11-13T08:06:14.963860Z"
    }
   },
   "outputs": [
    {
     "name": "stdout",
     "output_type": "stream",
     "text": [
      "✅ Great job! Exercise completed successfully.\n"
     ]
    }
   ],
   "source": [
    "# Compute the square root of each element in `sqrt_array` using `np.sqrt()` and save the result in `sqrt_result`.\n",
    "@check_numpy_32\n",
    "def numpy_32(sqrt_array):\n",
    "    # This line is mandatory and should not be removed.\n",
    "    ex_stat_init = True\n",
    "\n",
    "    # BELOW GOES YOUR CODE\n",
    "    sqrt_result = np.sqrt(sqrt_array)\n",
    "    # ABOVE GOES YOUR CODE\n",
    "    return {\"sqrt_result\": sqrt_result}\n",
    "\n",
    "numpy_32()"
   ]
  },
  {
   "cell_type": "code",
   "execution_count": 34,
   "metadata": {
    "ExecuteTime": {
     "end_time": "2024-11-13T08:06:15.008465Z",
     "start_time": "2024-11-13T08:06:15.006092Z"
    }
   },
   "outputs": [
    {
     "name": "stdout",
     "output_type": "stream",
     "text": [
      "✅ Great job! Exercise completed successfully.\n"
     ]
    }
   ],
   "source": [
    "# Calculate the exponential of each element in `exp_array` with `np.exp()` and store it in `exp_result`.\n",
    "@check_numpy_33\n",
    "def numpy_33(exp_array):\n",
    "    # This line is mandatory and should not be removed.\n",
    "    ex_stat_init = True\n",
    "\n",
    "    # BELOW GOES YOUR CODE\n",
    "    exp_result = np.exp(exp_array)\n",
    "    # ABOVE GOES YOUR CODE\n",
    "    return {\"exp_result\": exp_result}\n",
    "\n",
    "numpy_33()"
   ]
  },
  {
   "cell_type": "code",
   "execution_count": 35,
   "metadata": {
    "ExecuteTime": {
     "end_time": "2024-11-13T08:06:15.059852Z",
     "start_time": "2024-11-13T08:06:15.057386Z"
    }
   },
   "outputs": [
    {
     "name": "stdout",
     "output_type": "stream",
     "text": [
      "✅ Great job! Exercise completed successfully.\n"
     ]
    }
   ],
   "source": [
    "# Compute the natural logarithm of each element in `log_array` with `np.log()` and save it in `log_result`.\n",
    "@check_numpy_34\n",
    "def numpy_34(log_array):\n",
    "    # This line is mandatory and should not be removed.\n",
    "    ex_stat_init = True\n",
    "\n",
    "    # BELOW GOES YOUR CODE\n",
    "    log_result = np.log(log_array)\n",
    "    # ABOVE GOES YOUR CODE\n",
    "    return {\"log_result\": log_result}\n",
    "\n",
    "numpy_34()"
   ]
  },
  {
   "cell_type": "code",
   "execution_count": 36,
   "metadata": {
    "ExecuteTime": {
     "end_time": "2024-11-13T08:06:15.126260Z",
     "start_time": "2024-11-13T08:06:15.123422Z"
    }
   },
   "outputs": [
    {
     "name": "stdout",
     "output_type": "stream",
     "text": [
      "✅ Great job! Exercise completed successfully.\n"
     ]
    }
   ],
   "source": [
    "# Calculate the sine of each element in `sin_array` using `np.sin()` and store the result in `sin_result`.\n",
    "@check_numpy_35\n",
    "def numpy_35(sin_array):\n",
    "    # This line is mandatory and should not be removed.\n",
    "    ex_stat_init = True\n",
    "\n",
    "    # BELOW GOES YOUR CODE\n",
    "    sin_result = np.sin(sin_array)\n",
    "    # ABOVE GOES YOUR CODE\n",
    "    return {\"sin_result\": sin_result}\n",
    "\n",
    "numpy_35()"
   ]
  },
  {
   "cell_type": "code",
   "execution_count": 37,
   "metadata": {
    "ExecuteTime": {
     "end_time": "2024-11-13T08:06:15.181855Z",
     "start_time": "2024-11-13T08:06:15.178431Z"
    }
   },
   "outputs": [
    {
     "name": "stdout",
     "output_type": "stream",
     "text": [
      "✅ Great job! Exercise completed successfully.\n"
     ]
    }
   ],
   "source": [
    "# Compute the cosine of `cos_array` with `np.cos()` and save it in `cos_result`.\n",
    "@check_numpy_36\n",
    "def numpy_36(cos_array):\n",
    "    # This line is mandatory and should not be removed.\n",
    "    ex_stat_init = True\n",
    "\n",
    "    # BELOW \n",
    "    cos_result = np.cos(cos_array)\n",
    "    # ABOVE GOES YOUR CODE\n",
    "    return {\"cos_result\": cos_result}\n",
    "\n",
    "numpy_36()"
   ]
  },
  {
   "cell_type": "code",
   "execution_count": 38,
   "metadata": {
    "ExecuteTime": {
     "end_time": "2024-11-13T08:06:15.229129Z",
     "start_time": "2024-11-13T08:06:15.225696Z"
    }
   },
   "outputs": [
    {
     "name": "stdout",
     "output_type": "stream",
     "text": [
      "✅ Great job! Exercise completed successfully.\n"
     ]
    }
   ],
   "source": [
    "# Calculate the tangent of each element in `tan_array` using `np.tan()` and save it in `tan_result`.\n",
    "@check_numpy_37\n",
    "def numpy_37(tan_array):\n",
    "    # This line is mandatory and should not be removed.\n",
    "    ex_stat_init = True\n",
    "\n",
    "    # BELOW GOES YOUR CODE\n",
    "    tan_result = np.tan(tan_array)\n",
    "    # ABOVE GOES YOUR CODE\n",
    "    return {\"tan_result\": tan_result}\n",
    "\n",
    "numpy_37()"
   ]
  },
  {
   "cell_type": "code",
   "execution_count": 39,
   "metadata": {
    "ExecuteTime": {
     "end_time": "2024-11-13T08:06:15.280755Z",
     "start_time": "2024-11-13T08:06:15.277918Z"
    }
   },
   "outputs": [
    {
     "name": "stdout",
     "output_type": "stream",
     "text": [
      "✅ Great job! Exercise completed successfully.\n"
     ]
    }
   ],
   "source": [
    "# Transpose the 2D array `transpose_array` using `np.transpose()` and store in `transposed_array`.\n",
    "@check_numpy_38\n",
    "def numpy_38(transpose_array):\n",
    "    # This line is mandatory and should not be removed.\n",
    "    ex_stat_init = True\n",
    "\n",
    "    # BELOW GOES YOUR CODE\n",
    "    transposed_array = np.transpose(transpose_array)\n",
    "    # ABOVE GOES YOUR CODE\n",
    "    return {\"transposed_array\": transposed_array}\n",
    "\n",
    "numpy_38()"
   ]
  },
  {
   "cell_type": "code",
   "execution_count": 40,
   "metadata": {
    "ExecuteTime": {
     "end_time": "2024-11-13T08:06:15.319457Z",
     "start_time": "2024-11-13T08:06:15.316891Z"
    }
   },
   "outputs": [
    {
     "name": "stdout",
     "output_type": "stream",
     "text": [
      "✅ Great job! Exercise completed successfully.\n"
     ]
    }
   ],
   "source": [
    "# Compute the dot product of `vector1` and `vector2` using `np.dot()` and assign the result to `dot_product_result`.\n",
    "@check_numpy_39\n",
    "def numpy_39(vector1, vector2):\n",
    "    # This line is mandatory and should not be removed.\n",
    "    ex_stat_init = True\n",
    "\n",
    "    # BELOW GOES YOUR CODE\n",
    "    dot_product_result = np.dot(vector1,vector2)\n",
    "    # ABOVE GOES YOUR CODE\n",
    "    return {\"dot_product_result\": dot_product_result}\n",
    "\n",
    "numpy_39()"
   ]
  },
  {
   "cell_type": "code",
   "execution_count": 41,
   "metadata": {
    "ExecuteTime": {
     "end_time": "2024-11-13T08:06:15.371472Z",
     "start_time": "2024-11-13T08:06:15.368920Z"
    }
   },
   "outputs": [
    {
     "name": "stdout",
     "output_type": "stream",
     "text": [
      "✅ Great job! Exercise completed successfully.\n"
     ]
    }
   ],
   "source": [
    "# Calculate the inverse of the square matrix `square_matrix` using `np.linalg.inv()` and store it in `inverse_matrix`.\n",
    "@check_numpy_40\n",
    "def numpy_40(square_matrix):\n",
    "    # This line is mandatory and should not be removed.\n",
    "    ex_stat_init = True\n",
    "\n",
    "    # BELOW GOES YOUR CODE\n",
    "    inverse_matrix = np.linalg.inv(square_matrix)\n",
    "    # ABOVE GOES YOUR CODE\n",
    "    return {\"inverse_matrix\": inverse_matrix}\n",
    "\n",
    "numpy_40()"
   ]
  },
  {
   "cell_type": "code",
   "execution_count": 42,
   "metadata": {
    "ExecuteTime": {
     "end_time": "2024-11-13T08:06:15.412190Z",
     "start_time": "2024-11-13T08:06:15.409650Z"
    }
   },
   "outputs": [
    {
     "name": "stdout",
     "output_type": "stream",
     "text": [
      "✅ Great job! Exercise completed successfully.\n"
     ]
    }
   ],
   "source": [
    "# Find the determinant of the square matrix `det_matrix` using `np.linalg.det()` and assign it to `determinant_value`.\n",
    "@check_numpy_41\n",
    "def numpy_41(det_matrix):\n",
    "    # This line is mandatory and should not be removed.\n",
    "    ex_stat_init = True\n",
    "\n",
    "    # BELOW GOES YOUR CODE\n",
    "    determinant_value = np.linalg.det(det_matrix)\n",
    "    # ABOVE GOES YOUR CODE\n",
    "    return {\"determinant_value\": determinant_value}\n",
    "\n",
    "numpy_41()"
   ]
  },
  {
   "cell_type": "code",
   "execution_count": 43,
   "metadata": {
    "ExecuteTime": {
     "end_time": "2024-11-13T08:06:15.464151Z",
     "start_time": "2024-11-13T08:06:15.461847Z"
    }
   },
   "outputs": [
    {
     "name": "stdout",
     "output_type": "stream",
     "text": [
      "✅ Great job! Exercise completed successfully.\n"
     ]
    }
   ],
   "source": [
    "# Concatenate `array_x` and `array_y` vertically using `np.concatenate()` and save the result in `concat_vertical`.\n",
    "@check_numpy_42\n",
    "def numpy_42(array_x, array_y):\n",
    "    # This line is mandatory and should not be removed.\n",
    "    ex_stat_init = True\n",
    "\n",
    "    # BELOW GOES YOUR CODE\n",
    "    concat_vertical = np.concatenate(array_x+array_y)\n",
    "    # YOUR CODE\n",
    "    return {\"concat_vertical\": concat_vertical}\n",
    "\n",
    "numpy_42()"
   ]
  },
  {
   "cell_type": "code",
   "execution_count": 44,
   "metadata": {
    "ExecuteTime": {
     "end_time": "2024-11-13T08:06:15.502032Z",
     "start_time": "2024-11-13T08:06:15.499057Z"
    }
   },
   "outputs": [
    {
     "name": "stdout",
     "output_type": "stream",
     "text": [
      "✅ Great job! Exercise completed successfully.\n"
     ]
    }
   ],
   "source": [
    "# Stack `stack_array1` and `stack_array2` horizontally using `np.hstack()` and assign it to `stacked_horizontal`.\n",
    "@check_numpy_43\n",
    "def numpy_43(stack_array1, stack_array2):\n",
    "    # This line is mandatory and should not be removed.\n",
    "    ex_stat_init = True\n",
    "\n",
    "    # BELOW GOES YOUR CODE\n",
    "    stacked_horizontal = np.stack(stack_array1 + stack_array2)\n",
    "    # ABOVE GOES YOUR CODE\n",
    "    return {\"stacked_horizontal\": stacked_horizontal}\n",
    "\n",
    "numpy_43()"
   ]
  },
  {
   "cell_type": "code",
   "execution_count": 45,
   "metadata": {
    "ExecuteTime": {
     "end_time": "2024-11-13T08:06:15.552993Z",
     "start_time": "2024-11-13T08:06:15.550697Z"
    }
   },
   "outputs": [
    {
     "name": "stdout",
     "output_type": "stream",
     "text": [
      "✅ Great job! Exercise completed successfully.\n"
     ]
    }
   ],
   "source": [
    "# Add a scalar `scalar_value` to each element of `broadcast_array` using broadcasting and store in `broadcast_result`.\n",
    "@check_numpy_44\n",
    "def numpy_44(broadcast_array, scalar_value):\n",
    "    # This line is mandatory and should not be removed.\n",
    "    ex_stat_init = True\n",
    "\n",
    "    # BELOW GOES YOUR CODE\n",
    "    \n",
    "    broadcast_result = broadcast_array + scalar_value\n",
    "    # ABOVE GOES YOUR CODE\n",
    "    return {\"broadcast_result\": broadcast_result}\n",
    "\n",
    "numpy_44()"
   ]
  },
  {
   "cell_type": "code",
   "execution_count": 46,
   "metadata": {
    "ExecuteTime": {
     "end_time": "2024-11-13T08:06:15.591964Z",
     "start_time": "2024-11-13T08:06:15.589575Z"
    }
   },
   "outputs": [
    {
     "name": "stdout",
     "output_type": "stream",
     "text": [
      "✅ Great job! Exercise completed successfully.\n"
     ]
    }
   ],
   "source": [
    "# Given a 1D array `small_array` and a 2D array `large_array`, utilize broadcasting to add them and store the result in `broadcast_sum`.\n",
    "@check_numpy_45\n",
    "def numpy_45(small_array, large_array):\n",
    "    # This line is mandatory and should not be removed.\n",
    "    ex_stat_init = True\n",
    "\n",
    "    # BELOW GOES YOUR CODE\n",
    "    broadcast_sum = small_array + large_array\n",
    "    # ABOVE GOES YOUR CODE\n",
    "    return {\"broadcast_sum\": broadcast_sum}\n",
    "\n",
    "numpy_45()"
   ]
  },
  {
   "cell_type": "code",
   "execution_count": 47,
   "metadata": {
    "ExecuteTime": {
     "end_time": "2024-11-13T08:06:15.643954Z",
     "start_time": "2024-11-13T08:06:15.641281Z"
    }
   },
   "outputs": [
    {
     "name": "stdout",
     "output_type": "stream",
     "text": [
      "✅ Great job! Exercise completed successfully.\n"
     ]
    }
   ],
   "source": [
    "# Subtract a scalar value `scalar_sub` from each element of `two_d_array`.\n",
    "@check_numpy_46\n",
    "def numpy_46(two_d_array, scalar_sub):\n",
    "    # This line is mandatory and should not be removed.\n",
    "    ex_stat_init = True\n",
    "\n",
    "    # BELOW GOES YOUR CODE\n",
    "    two_d_array = two_d_array - scalar_sub\n",
    "    # ABOVE GOES YOUR CODE\n",
    "    return {\"two_d_array\": two_d_array}\n",
    "\n",
    "numpy_46()"
   ]
  },
  {
   "cell_type": "code",
   "execution_count": 48,
   "metadata": {
    "ExecuteTime": {
     "end_time": "2024-11-13T08:06:15.685301Z",
     "start_time": "2024-11-13T08:06:15.681973Z"
    }
   },
   "outputs": [
    {
     "name": "stdout",
     "output_type": "stream",
     "text": [
      "✅ Great job! Exercise completed successfully.\n"
     ]
    }
   ],
   "source": [
    "# Given dimensions `dim1`, `dim2`, and `dim3`, create a 3D NumPy array named `random_int_array` containing random integers between 0 and 10.\n",
    "@check_numpy_47\n",
    "def numpy_47(dim1, dim2, dim3):\n",
    "    # This line is mandatory and should not be removed.\n",
    "    ex_stat_init = True\n",
    "\n",
    "    # BELOW GOES YOUR CODE\n",
    "    random_int_array = np.random.randint(0,11, size = (dim1,dim2,dim3))\n",
    "    # ABOVE GOES YOUR CODEn\n",
    "    return {\"random_int_array\": random_int_array}\n",
    "\n",
    "numpy_47()"
   ]
  },
  {
   "cell_type": "code",
   "execution_count": 49,
   "metadata": {
    "ExecuteTime": {
     "end_time": "2024-11-13T08:06:15.746944Z",
     "start_time": "2024-11-13T08:06:15.744678Z"
    }
   },
   "outputs": [
    {
     "name": "stdout",
     "output_type": "stream",
     "text": [
      "✅ Great job! Exercise completed successfully.\n"
     ]
    }
   ],
   "source": [
    "# Convert the 2D array `multi_array` into a 1D array named `flattened`.\n",
    "@check_numpy_48\n",
    "def numpy_48(multi_array):\n",
    "    # This line is mandatory and should not be removed.\n",
    "    ex_stat_init = True\n",
    "\n",
    "    # BELOW GOES YOUR CODE\n",
    "    flattened = multi_array.flatten()\n",
    "    # ABOVE GOES YOUR CODE\n",
    "    return {\"flattened\": flattened}\n",
    "\n",
    "numpy_48()"
   ]
  },
  {
   "cell_type": "code",
   "execution_count": 50,
   "metadata": {
    "ExecuteTime": {
     "end_time": "2024-11-13T08:06:15.784281Z",
     "start_time": "2024-11-13T08:06:15.782006Z"
    }
   },
   "outputs": [
    {
     "name": "stdout",
     "output_type": "stream",
     "text": [
      "✅ Great job! Exercise completed successfully.\n"
     ]
    }
   ],
   "source": [
    "# Given a NumPy array `nonzero_array`, use `np.nonzero()` to find indices of non-zero elements and assign them to `nonzero_indices`.\n",
    "@check_numpy_49\n",
    "def numpy_49(nonzero_array):\n",
    "    # This line is mandatory and should not be removed.\n",
    "    ex_stat_init = True\n",
    "\n",
    "    # BELOW GOES YOUR CODE\n",
    "    nonzero_indices = np.nonzero(nonzero_array)\n",
    "    # ABOVE GOES YOUR CODE\n",
    "    return {\"nonzero_indices\": nonzero_indices}\n",
    "\n",
    "numpy_49()"
   ]
  },
  {
   "cell_type": "code",
   "execution_count": 51,
   "metadata": {
    "ExecuteTime": {
     "end_time": "2024-11-13T08:06:15.816677Z",
     "start_time": "2024-11-13T08:06:15.814543Z"
    }
   },
   "outputs": [
    {
     "name": "stdout",
     "output_type": "stream",
     "text": [
      "✅ Great job! Exercise completed successfully.\n"
     ]
    }
   ],
   "source": [
    "# Create a diagonal matrix `diagonal_matrix` with the given 1D array `diag_elements` using `np.diag()`.\n",
    "@check_numpy_50\n",
    "def numpy_50(diag_elements):\n",
    "    # This line is mandatory and should not be removed.\n",
    "    ex_stat_init = True\n",
    "\n",
    "    # BELOW GOES YOUR CODE\n",
    "    diagonal_matrix = np.diag(diag_elements)\n",
    "    # ABOVE GOES YOUR CODE\n",
    "    return {\"diagonal_matrix\": diagonal_matrix}\n",
    "\n",
    "numpy_50()"
   ]
  },
  {
   "cell_type": "code",
   "execution_count": 52,
   "metadata": {
    "ExecuteTime": {
     "end_time": "2024-11-13T08:06:15.858729Z",
     "start_time": "2024-11-13T08:06:15.856475Z"
    }
   },
   "outputs": [
    {
     "name": "stdout",
     "output_type": "stream",
     "text": [
      "✅ Great job! Exercise completed successfully.\n"
     ]
    }
   ],
   "source": [
    "# Update values in `conditional_array` to `new_value` where the condition `np.where_condition` is satisfied, and save it in `updated_array`.\n",
    "@check_numpy_51\n",
    "def numpy_51(conditional_array, np_where_condition, new_value):\n",
    "    # This line is mandatory and should not be removed.\n",
    "    ex_stat_init = True\n",
    "\n",
    "    # BELOW GOES YOUR CODE\n",
    "    updated_array = np.where(np_where_condition, new_value, conditional_array)\n",
    "    # ABOVE GOES YOUR CODE\n",
    "    return {\"updated_array\": updated_array}\n",
    "\n",
    "numpy_51()"
   ]
  },
  {
   "cell_type": "code",
   "execution_count": 53,
   "metadata": {
    "ExecuteTime": {
     "end_time": "2024-11-13T08:06:15.894861Z",
     "start_time": "2024-11-13T08:06:15.891905Z"
    }
   },
   "outputs": [
    {
     "name": "stdout",
     "output_type": "stream",
     "text": [
      "✅ Great job! Exercise completed successfully.\n"
     ]
    }
   ],
   "source": [
    "# Given two arrays `max_array_a` and `max_array_b`, compute the element-wise maximum and store it in `element_max`.\n",
    "@check_numpy_52\n",
    "def numpy_52(max_array_a, max_array_b):\n",
    "    # This line is mandatory and should not be removed.\n",
    "    ex_stat_init = True\n",
    "\n",
    "    # BELOW GOES YOUR CODE\n",
    "    element_max = np.maximum(max_array_a,max_array_b)\n",
    "    # ABOVE GOES YOUR CODE\n",
    "    return {\"element_max\": element_max}\n",
    "\n",
    "numpy_52()"
   ]
  },
  {
   "cell_type": "code",
   "execution_count": 54,
   "metadata": {
    "ExecuteTime": {
     "end_time": "2024-11-13T08:06:15.946243Z",
     "start_time": "2024-11-13T08:06:15.943657Z"
    }
   },
   "outputs": [
    {
     "name": "stdout",
     "output_type": "stream",
     "text": [
      "✅ Great job! Exercise completed successfully.\n"
     ]
    }
   ],
   "source": [
    "# Calculate the cumulative sum of elements in `cumsum_array` and assign it to `cumulative_sum`.\n",
    "@check_numpy_53\n",
    "def numpy_53(cumsum_array):\n",
    "    # This line is mandatory and should not be removed.\n",
    "    ex_stat_init = True\n",
    "\n",
    "    # BELOW GOES YOUR CODE\n",
    "    cumulative_sum = np.cumulative_sum(cumsum_array)\n",
    "    # ABOVE GOES YOUR CODE\n",
    "    return {\"cumulative_sum\": cumulative_sum}\n",
    "\n",
    "numpy_53()"
   ]
  },
  {
   "cell_type": "code",
   "execution_count": 55,
   "metadata": {
    "ExecuteTime": {
     "end_time": "2024-11-13T08:06:15.983713Z",
     "start_time": "2024-11-13T08:06:15.981475Z"
    }
   },
   "outputs": [
    {
     "name": "stdout",
     "output_type": "stream",
     "text": [
      "✅ Great job! Exercise completed successfully.\n"
     ]
    }
   ],
   "source": [
    "# Extract unique elements from the NumPy array `unique_array` and store them in `unique_elements`.\n",
    "@check_numpy_54\n",
    "def numpy_54(unique_array):\n",
    "    # This line is mandatory and should not be removed.\n",
    "    ex_stat_init = True\n",
    "\n",
    "    # BELOW GOES YOUR CODE\n",
    "    unique_elements = np.unique(unique_array)\n",
    "    # ABOVE GOES YOUR CODE\n",
    "    return {\"unique_elements\": unique_elements}\n",
    "\n",
    "numpy_54()"
   ]
  },
  {
   "cell_type": "code",
   "execution_count": 56,
   "metadata": {
    "ExecuteTime": {
     "end_time": "2024-11-13T08:06:16.033927Z",
     "start_time": "2024-11-13T08:06:16.031083Z"
    }
   },
   "outputs": [
    {
     "name": "stdout",
     "output_type": "stream",
     "text": [
      "✅ Great job! Exercise completed successfully.\n"
     ]
    }
   ],
   "source": [
    "# Sort the array `sort_array` in ascending order and assign it to `sorted_array`.\n",
    "@check_numpy_55\n",
    "def numpy_55(sort_array):\n",
    "    # This line is mandatory and should not be removed.\n",
    "    ex_stat_init = True\n",
    "\n",
    "    # BELOW GOES YOUR CODE\n",
    "    sorted_array = np.sort(sort_array)\n",
    "    # ABOVE GOES YOUR CODE\n",
    "    return {\"sorted_array\": sorted_array}\n",
    "\n",
    "numpy_55()"
   ]
  },
  {
   "cell_type": "code",
   "execution_count": 57,
   "metadata": {
    "ExecuteTime": {
     "end_time": "2024-11-13T08:06:16.071121Z",
     "start_time": "2024-11-13T08:06:16.068957Z"
    }
   },
   "outputs": [
    {
     "name": "stdout",
     "output_type": "stream",
     "text": [
      "✅ Great job! Exercise completed successfully.\n"
     ]
    }
   ],
   "source": [
    "# Compute the intersection of two arrays `intersect_array1` and `intersect_array2` and save it in `intersection`.\n",
    "@check_numpy_56\n",
    "def numpy_56(intersect_array1, intersect_array2):\n",
    "    # This line is mandatory and should not be removed.\n",
    "    ex_stat_init = True\n",
    "\n",
    "    # BELOW GOES YOUR CODE\n",
    "    intersection = np.intersect1d(intersect_array1,intersect_array2)\n",
    "    # ABOVE GOES YOUR CODE\n",
    "    return {\"intersection\": intersection}\n",
    "\n",
    "numpy_56()"
   ]
  },
  {
   "cell_type": "code",
   "execution_count": 58,
   "metadata": {
    "ExecuteTime": {
     "end_time": "2024-11-13T08:06:16.118651Z",
     "start_time": "2024-11-13T08:06:16.115982Z"
    }
   },
   "outputs": [
    {
     "name": "stdout",
     "output_type": "stream",
     "text": [
      "✅ Great job! Exercise completed successfully.\n"
     ]
    }
   ],
   "source": [
    "# Join `join_array1`, `join_array2`, and `join_array3` along a new axis using `np.stack()` and store it in `joined_array`.\n",
    "@check_numpy_57\n",
    "def numpy_57(join_array1, join_array2, join_array3):\n",
    "    # This line is mandatory and should not be removed.\n",
    "    ex_stat_init = True\n",
    "\n",
    "    # BELOW GOES YOUR CODE\n",
    "    joined_array = np.stack((join_array1,join_array2,join_array3), axis = 0) \n",
    "    # ABOVE GOES YOUR CODE\n",
    "    return {\"joined_array\": joined_array}\n",
    "\n",
    "numpy_57()"
   ]
  },
  {
   "cell_type": "code",
   "execution_count": 59,
   "metadata": {
    "ExecuteTime": {
     "end_time": "2024-11-13T08:06:16.155949Z",
     "start_time": "2024-11-13T08:06:16.153590Z"
    }
   },
   "outputs": [
    {
     "name": "stdout",
     "output_type": "stream",
     "text": [
      "✅ Great job! Exercise completed successfully.\n"
     ]
    }
   ],
   "source": [
    "# Split `split_array` into `num_splits` parts using `np.array_split()` and assign the result to `split_parts`.\n",
    "@check_numpy_58\n",
    "def numpy_58(split_array, num_splits):\n",
    "    # This line is mandatory and should not be removed.\n",
    "    ex_stat_init = True\n",
    "\n",
    "    # BELOW GOES YOUR CODE\n",
    "    split_parts = np.array_split(split_array,num_splits)\n",
    "    # ABOVE GOES YOUR CODE\n",
    "    return {\"split_parts\": split_parts}\n",
    "\n",
    "numpy_58()"
   ]
  },
  {
   "cell_type": "code",
   "execution_count": 60,
   "metadata": {
    "ExecuteTime": {
     "end_time": "2024-11-13T08:06:16.209674Z",
     "start_time": "2024-11-13T08:06:16.206351Z"
    }
   },
   "outputs": [
    {
     "name": "stdout",
     "output_type": "stream",
     "text": [
      "✅ Great job! Exercise completed successfully.\n"
     ]
    }
   ],
   "source": [
    "# Count elements in `count_array` that are greater than `threshold` and assign the count to `greater_count`.\n",
    "@check_numpy_59\n",
    "def numpy_59(count_array, threshold):\n",
    "    # This line is mandatory and should not be removed.\n",
    "    ex_stat_init = True\n",
    "\n",
    "    # BELOW GOES YOUR CODE\n",
    "    greater_count = np.sum(count_array > threshold)#sum count how many elements are greater than\n",
    "    # ABOVE GOES YOUR CODE\n",
    "    return {\"greater_count\": greater_count}\n",
    "\n",
    "numpy_59()"
   ]
  },
  {
   "cell_type": "code",
   "execution_count": 61,
   "metadata": {
    "ExecuteTime": {
     "end_time": "2024-11-13T08:06:16.249512Z",
     "start_time": "2024-11-13T08:06:16.246216Z"
    }
   },
   "outputs": [
    {
     "name": "stdout",
     "output_type": "stream",
     "text": [
      "✅ Great job! Exercise completed successfully.\n"
     ]
    }
   ],
   "source": [
    "# Rotate the 2D array `rotate_array` 90 degrees counterclockwise using `np.rot90()` and store it in `rotated_array`.\n",
    "@check_numpy_60\n",
    "def numpy_60(rotate_array):\n",
    "    # This line is mandatory and should not be removed.\n",
    "    ex_stat_init = True\n",
    "\n",
    "    # BELOW GOES YOUR CODE\n",
    "    rotated_array = np.rot90(rotate_array,k=1,axes=(0,1))\n",
    "    # ABOVE GOES YOUR CODE\n",
    "    return {\"rotated_array\": rotated_array}\n",
    "\n",
    "numpy_60()"
   ]
  },
  {
   "cell_type": "code",
   "execution_count": 62,
   "metadata": {
    "ExecuteTime": {
     "end_time": "2024-11-13T08:06:16.305015Z",
     "start_time": "2024-11-13T08:06:16.302409Z"
    }
   },
   "outputs": [
    {
     "name": "stdout",
     "output_type": "stream",
     "text": [
      "✅ Great job! Exercise completed successfully.\n"
     ]
    }
   ],
   "source": [
    "# Create an array named `random_float_array` with shape `float_shape` containing random floats between 0 and 1.\n",
    "@check_numpy_61\n",
    "def numpy_61(float_shape):\n",
    "    # This line is mandatory and should not be removed.\n",
    "    ex_stat_init = True\n",
    "\n",
    "    # BELOW GOES YOUR CODE\n",
    "    random_float_array = np.random.rand(*float_shape)\n",
    "    # ABOVE GOES YOUR CODE\n",
    "    return {\"random_float_array\": random_float_array}\n",
    "\n",
    "numpy_61()"
   ]
  },
  {
   "cell_type": "code",
   "execution_count": 63,
   "metadata": {
    "ExecuteTime": {
     "end_time": "2024-11-13T08:06:16.341490Z",
     "start_time": "2024-11-13T08:06:16.339250Z"
    }
   },
   "outputs": [
    {
     "name": "stdout",
     "output_type": "stream",
     "text": [
      "✅ Great job! Exercise completed successfully.\n"
     ]
    }
   ],
   "source": [
    "# Compute the median of `median_array` and store it in `median_value`.\n",
    "@check_numpy_62\n",
    "def numpy_62(median_array):\n",
    "    # This line is mandatory and should not be removed.\n",
    "    ex_stat_init = True\n",
    "\n",
    "    # BELOW GOES YOUR CODE\n",
    "    median_value = np.median(median_array)\n",
    "    # ABOVE GOES YOUR CODE\n",
    "    return {\"median_value\": median_value}\n",
    "\n",
    "numpy_62()"
   ]
  },
  {
   "cell_type": "code",
   "execution_count": 64,
   "metadata": {
    "ExecuteTime": {
     "end_time": "2024-11-13T08:06:16.382236Z",
     "start_time": "2024-11-13T08:06:16.379793Z"
    }
   },
   "outputs": [
    {
     "name": "stdout",
     "output_type": "stream",
     "text": [
      "✅ Great job! Exercise completed successfully.\n"
     ]
    }
   ],
   "source": [
    "# Given a complex NumPy array `complex_array`, extract its real and imaginary parts into `real_part` and `imag_part`.\n",
    "@check_numpy_63\n",
    "def numpy_63(complex_array):\n",
    "    # This line is mandatory and should not be removed.\n",
    "    ex_stat_init = True\n",
    "\n",
    "    # BELOW GOES YOUR CODE\n",
    "    real_part = np.real(complex_array)\n",
    "    imag_part = np.imag(complex_array)\n",
    "    # ABOVE GOES YOUR CODE\n",
    "    return {\"real_part\": real_part, \"imag_part\": imag_part}\n",
    "\n",
    "numpy_63()"
   ]
  },
  {
   "cell_type": "code",
   "execution_count": 65,
   "metadata": {
    "ExecuteTime": {
     "end_time": "2024-11-13T08:06:16.427346Z",
     "start_time": "2024-11-13T08:06:16.424866Z"
    }
   },
   "outputs": [
    {
     "name": "stdout",
     "output_type": "stream",
     "text": [
      "✅ Great job! Exercise completed successfully.\n"
     ]
    }
   ],
   "source": [
    "# Normalize the array `norm_array` to have values between 0 and 1, storing the result in `normalized_array`.\n",
    "@check_numpy_64\n",
    "def numpy_64(norm_array):\n",
    "    # This line is mandatory and should not be removed.\n",
    "    ex_stat_init = True\n",
    "\n",
    "    # BELOW GOES YOUR CODE\n",
    "    min_value = np.min(norm_array)\n",
    "    max_value = np.max(norm_array)\n",
    "    normalized_array = ((norm_array-min_value)/(max_value-min_value))#formula for values bt 0&1\n",
    "    # ABOVE GOES YOUR CODE\n",
    "    return {\"normalized_array\": normalized_array}\n",
    "\n",
    "numpy_64()"
   ]
  },
  {
   "cell_type": "code",
   "execution_count": 66,
   "metadata": {
    "ExecuteTime": {
     "end_time": "2024-11-13T08:06:16.475483Z",
     "start_time": "2024-11-13T08:06:16.472795Z"
    }
   },
   "outputs": [
    {
     "name": "stdout",
     "output_type": "stream",
     "text": [
      "✅ Great job! Exercise completed successfully.\n"
     ]
    }
   ],
   "source": [
    "# Replace negative elements in `replace_array` with `new_value` using `np.where()` and store in `replaced_array`.\n",
    "@check_numpy_65\n",
    "def numpy_65(replace_array, new_value):\n",
    "    # This line is mandatory and should not be removed.\n",
    "    ex_stat_init = True\n",
    "\n",
    "    # BELOW GOES YOUR CODE\n",
    "    replaced_array = np.where(replace_array<0,new_value,replace_array)\n",
    "    # ABOVE GOES YOUR CODE\n",
    "    return {\"replaced_array\": replaced_array}\n",
    "\n",
    "numpy_65()"
   ]
  },
  {
   "cell_type": "code",
   "execution_count": 67,
   "metadata": {
    "ExecuteTime": {
     "end_time": "2024-11-13T08:06:16.510657Z",
     "start_time": "2024-11-13T08:06:16.507876Z"
    }
   },
   "outputs": [
    {
     "name": "stdout",
     "output_type": "stream",
     "text": [
      "✅ Great job! Exercise completed successfully.\n"
     ]
    }
   ],
   "source": [
    "# Calculate the row-wise total sum for `axis_sum_array` and assign the output to `row_sums`.\n",
    "@check_numpy_66\n",
    "def numpy_66(axis_sum_array):\n",
    "    # This line is mandatory and should not be removed.\n",
    "    ex_stat_init = True\n",
    "\n",
    "    # BELOW GOES YOUR CODE\n",
    "    row_sums = np.sum(axis_sum_array, axis = 1)#axis1-horisontal direction, 0-vertical\n",
    "    # ABOVE GOES YOUR CODE\n",
    "    return {\"row_sums\": row_sums}\n",
    "\n",
    "numpy_66()"
   ]
  },
  {
   "cell_type": "code",
   "execution_count": 68,
   "metadata": {
    "ExecuteTime": {
     "end_time": "2024-11-13T08:06:16.536149Z",
     "start_time": "2024-11-13T08:06:16.533137Z"
    }
   },
   "outputs": [
    {
     "name": "stdout",
     "output_type": "stream",
     "text": [
      "✅ Great job! Exercise completed successfully.\n"
     ]
    }
   ],
   "source": [
    "# Produce a matrix `random_matrix` with `matrix_shape` dimensions and random integers from 0 to 100.\n",
    "@check_numpy_67\n",
    "def numpy_67(matrix_shape):\n",
    "    # This line is mandatory and should not be removed.\n",
    "    ex_stat_init = True\n",
    "\n",
    "    # BELOW GOES YOUR CODE\n",
    "    random_matrix = np.random.randint(0,100, size = matrix_shape)\n",
    "    # ABOVE GOES YOUR CODE\n",
    "    return {\"random_matrix\": random_matrix.shape, \"random_values\": np.any((random_matrix < 0) | (random_matrix > 100))}\n",
    "\n",
    "numpy_67()"
   ]
  },
  {
   "cell_type": "code",
   "execution_count": 69,
   "metadata": {
    "ExecuteTime": {
     "end_time": "2024-11-13T08:06:16.557980Z",
     "start_time": "2024-11-13T08:06:16.555205Z"
    }
   },
   "outputs": [
    {
     "name": "stdout",
     "output_type": "stream",
     "text": [
      "✅ Great job! Exercise completed successfully.\n"
     ]
    }
   ],
   "source": [
    "# Raise each element in `base_power_array` to a power specified in `exp_power_array`, element-wise, and store in `powered_array`.\n",
    "@check_numpy_68\n",
    "def numpy_68(base_power_array, exp_power_array):\n",
    "    # This line is mandatory and should not be removed.\n",
    "    ex_stat_init = True\n",
    "\n",
    "    # BELOW GOES YOUR CODE\n",
    "    powered_array = np.power(base_power_array,exp_power_array)\n",
    "    # ABOVE GOES YOUR CODE\n",
    "    return {\"powered_array\": powered_array}\n",
    "\n",
    "numpy_68()"
   ]
  },
  {
   "cell_type": "code",
   "execution_count": 70,
   "metadata": {
    "ExecuteTime": {
     "end_time": "2024-11-13T08:06:16.580428Z",
     "start_time": "2024-11-13T08:06:16.578140Z"
    }
   },
   "outputs": [
    {
     "name": "stdout",
     "output_type": "stream",
     "text": [
      "✅ Great job! Exercise completed successfully.\n"
     ]
    }
   ],
   "source": [
    "# Detect NaN elements within `nan_array` using `np.isnan()` and assign the position to `nan_indices`.\n",
    "@check_numpy_69\n",
    "def numpy_69(nan_array):\n",
    "    # This line is mandatory and should not be removed.\n",
    "    ex_stat_init = True\n",
    "\n",
    "    # BELOW GOES YOUR CODE\n",
    "    nan_indices = np.isnan(nan_array)\n",
    "    # ABOVE GOES YOUR CODE\n",
    "    return {\"nan_indices\": nan_indices}\n",
    "\n",
    "numpy_69()"
   ]
  },
  {
   "cell_type": "code",
   "execution_count": 71,
   "metadata": {
    "ExecuteTime": {
     "end_time": "2024-11-13T08:06:16.601686Z",
     "start_time": "2024-11-13T08:06:16.599249Z"
    }
   },
   "outputs": [
    {
     "name": "stdout",
     "output_type": "stream",
     "text": [
      "✅ Great job! Exercise completed successfully.\n"
     ]
    }
   ],
   "source": [
    "# Replace `NaN` values in `nan_replace_array` with `specific_value` and create `nan_replaced_array`.\n",
    "@check_numpy_70\n",
    "def numpy_70(nan_replace_array, specific_value):\n",
    "    # This line is mandatory and should not be removed.\n",
    "    ex_stat_init = True\n",
    "\n",
    "    # BELOW GOES YOUR CODE\n",
    "    nan_replaced_array = np.where(np.isnan(nan_replace_array), specific_value, nan_replace_array)\n",
    "    # ABOVE GOES YOUR CODE\n",
    "    return {\"nan_replaced_array\": nan_replaced_array}\n",
    "\n",
    "numpy_70()"
   ]
  },
  {
   "cell_type": "code",
   "execution_count": 72,
   "metadata": {
    "ExecuteTime": {
     "end_time": "2024-11-13T08:06:16.621918Z",
     "start_time": "2024-11-13T08:06:16.619589Z"
    }
   },
   "outputs": [
    {
     "name": "stdout",
     "output_type": "stream",
     "text": [
      "✅ Great job! Exercise completed successfully.\n"
     ]
    }
   ],
   "source": [
    "# Construct an upper triangular version of `triangular_matrix` using `np.triu()`.\n",
    "@check_numpy_71\n",
    "def numpy_71(triangular_matrix):\n",
    "    # This line is mandatory and should not be removed.\n",
    "    ex_stat_init = True\n",
    "\n",
    "    # BELOW GOES YOUR CODE\n",
    "    upper_triangular = np.triu(triangular_matrix) \n",
    "    # ABOVE GOES YOUR CODE\n",
    "    return {\"upper_triangular\": upper_triangular}\n",
    "\n",
    "numpy_71()"
   ]
  },
  {
   "cell_type": "code",
   "execution_count": 73,
   "metadata": {
    "ExecuteTime": {
     "end_time": "2024-11-13T08:06:16.634431Z",
     "start_time": "2024-11-13T08:06:16.632134Z"
    }
   },
   "outputs": [
    {
     "name": "stdout",
     "output_type": "stream",
     "text": [
      "✅ Great job! Exercise completed successfully.\n"
     ]
    }
   ],
   "source": [
    "# Calculate the `percentile_value` percentile of elements in `percentile_array` and set the result to `percentile_result`.\n",
    "@check_numpy_72\n",
    "def numpy_72(percentile_array, percentile_value):\n",
    "    # This line is mandatory and should not be removed.\n",
    "    ex_stat_init = True\n",
    "\n",
    "    # BELOW GOES YOUR CODE\n",
    "    percentile_result = np.percentile(percentile_array,percentile_value)\n",
    "    # ABOVE GOES YOUR CODE\n",
    "    return {\"percentile_result\": percentile_result}\n",
    "\n",
    "numpy_72()"
   ]
  },
  {
   "cell_type": "code",
   "execution_count": 74,
   "metadata": {
    "ExecuteTime": {
     "end_time": "2024-11-13T08:06:16.654245Z",
     "start_time": "2024-11-13T08:06:16.652177Z"
    }
   },
   "outputs": [
    {
     "name": "stdout",
     "output_type": "stream",
     "text": [
      "✅ Great job! Exercise completed successfully.\n"
     ]
    }
   ],
   "source": [
    "# Calculate the trace (sum of diagonals) of the matrix `trace_matrix` using `np.trace()`.\n",
    "@check_numpy_73\n",
    "def numpy_73(trace_matrix):\n",
    "    # This line is mandatory and should not be removed.\n",
    "    ex_stat_init = True\n",
    "\n",
    "    # BELOW GOES YOUR CODE\n",
    "    trace_value = np.trace(trace_matrix)\n",
    "    # ABOVE GOES YOUR CODE\n",
    "    return {\"trace_value\": trace_value}\n",
    "\n",
    "numpy_73()"
   ]
  },
  {
   "cell_type": "code",
   "execution_count": 75,
   "metadata": {
    "ExecuteTime": {
     "end_time": "2024-11-13T08:06:16.696128Z",
     "start_time": "2024-11-13T08:06:16.693670Z"
    }
   },
   "outputs": [
    {
     "name": "stdout",
     "output_type": "stream",
     "text": [
      "✅ Great job! Exercise completed successfully.\n"
     ]
    }
   ],
   "source": [
    "# Compute the index of the maximum value in `index_max_array` and store it in `max_index`.\n",
    "@check_numpy_74\n",
    "def numpy_74(index_max_array):\n",
    "    # This line is mandatory and should not be removed.\n",
    "    ex_stat_init = True\n",
    "\n",
    "    # BELOW GOES YOUR CODE\n",
    "    max_index = np.argmax(index_max_array)\n",
    "    # ABOVE GOES YOUR CODE\n",
    "    return {\"max_index\": max_index}\n",
    "\n",
    "numpy_74()"
   ]
  },
  {
   "cell_type": "code",
   "execution_count": 76,
   "metadata": {
    "ExecuteTime": {
     "end_time": "2024-11-13T08:06:16.733347Z",
     "start_time": "2024-11-13T08:06:16.730630Z"
    }
   },
   "outputs": [
    {
     "name": "stdout",
     "output_type": "stream",
     "text": [
      "✅ Great job! Exercise completed successfully.\n"
     ]
    }
   ],
   "source": [
    "# Find the index of the minimum value in `index_min_array` and assign it to `min_index`.\n",
    "@check_numpy_75\n",
    "def numpy_75(index_min_array):\n",
    "    # This line is mandatory and should not be removed.\n",
    "    ex_stat_init = True\n",
    "\n",
    "    # BELOW GOES YOUR CODE\n",
    "    min_index = np.argmin(index_min_array)\n",
    "    # ABOVE GOES YOUR CODE\n",
    "    return {\"min_index\": min_index}\n",
    "\n",
    "numpy_75()"
   ]
  },
  {
   "cell_type": "code",
   "execution_count": 77,
   "metadata": {
    "ExecuteTime": {
     "end_time": "2024-11-13T08:06:16.791154Z",
     "start_time": "2024-11-13T08:06:16.788204Z"
    }
   },
   "outputs": [
    {
     "name": "stdout",
     "output_type": "stream",
     "text": [
      "✅ Great job! Exercise completed successfully.\n"
     ]
    }
   ],
   "source": [
    "# Perform an element-wise comparison of `compare_array1` and `compare_array2` using `np.equal()` and assign to `comparison_result`.\n",
    "@check_numpy_76\n",
    "def numpy_76(compare_array1, compare_array2):\n",
    "    # This line is mandatory and should not be removed.\n",
    "    ex_stat_init = True\n",
    "\n",
    "    # BELOW GOES YOUR CODE\n",
    "    comparison_result = np.equal(compare_array1,compare_array2)\n",
    "    # ABOVE GOES YOUR CODE\n",
    "    return {\"comparison_result\": comparison_result}\n",
    "\n",
    "numpy_76()"
   ]
  },
  {
   "cell_type": "code",
   "execution_count": 78,
   "metadata": {
    "ExecuteTime": {
     "end_time": "2024-11-13T08:06:16.827186Z",
     "start_time": "2024-11-13T08:06:16.824731Z"
    }
   },
   "outputs": [
    {
     "name": "stdout",
     "output_type": "stream",
     "text": [
      "✅ Great job! Exercise completed successfully.\n"
     ]
    }
   ],
   "source": [
    "# Perform the matrix multiplication between two arrays `mat_mult_a` and `mat_mult_b` and store the result in `matrix_product`.\n",
    "@check_numpy_77\n",
    "def numpy_77(mat_mult_a, mat_mult_b):\n",
    "    # This line is mandatory and should not be removed.\n",
    "    ex_stat_init = True\n",
    "\n",
    "    # BELOW GOES YOUR CODE\n",
    "    matrix_product = np.multiply(mat_mult_a,mat_mult_b)\n",
    "    # ABOVE GOES YOUR CODE\n",
    "    return {\"matrix_product\": matrix_product}\n",
    "\n",
    "numpy_77()"
   ]
  },
  {
   "cell_type": "code",
   "execution_count": 79,
   "metadata": {
    "ExecuteTime": {
     "end_time": "2024-11-13T08:06:16.884181Z",
     "start_time": "2024-11-13T08:06:16.881786Z"
    }
   },
   "outputs": [
    {
     "name": "stdout",
     "output_type": "stream",
     "text": [
      "✅ Great job! Exercise completed successfully.\n"
     ]
    }
   ],
   "source": [
    "# Extract the diagonal of `diag_matrix` using `np.diag()` and store it in `matrix_diagonal`.\n",
    "@check_numpy_78\n",
    "def numpy_78(diag_matrix):\n",
    "    # This line is mandatory and should not be removed.\n",
    "    ex_stat_init = True\n",
    "\n",
    "    # BELOW GOES YOUR CODE\n",
    "    matrix_diagonal = np.diag(diag_matrix)\n",
    "    # ABOVE GOES YOUR CODE\n",
    "    return {\"matrix_diagonal\": matrix_diagonal}\n",
    "\n",
    "numpy_78()"
   ]
  },
  {
   "cell_type": "code",
   "execution_count": 80,
   "metadata": {
    "ExecuteTime": {
     "end_time": "2024-11-13T08:06:16.909384Z",
     "start_time": "2024-11-13T08:06:16.906687Z"
    }
   },
   "outputs": [
    {
     "name": "stdout",
     "output_type": "stream",
     "text": [
      "✅ Great job! Exercise completed successfully.\n"
     ]
    }
   ],
   "source": [
    "# Clip `clip_array` such that all its values fall between `min_clip` and `max_clip`, saving the result in `clipped_array`.\n",
    "@check_numpy_79\n",
    "def numpy_79(clip_array, min_clip, max_clip):\n",
    "    # This line is mandatory and should not be removed.\n",
    "    ex_stat_init = True\n",
    "\n",
    "    # BELOW GOES YOUR CODE\n",
    "    clipped_array = np.clip(clip_array,min_clip,max_clip)\n",
    "    # ABOVE GOES YOUR CODE\n",
    "    return {\"clipped_array\": clipped_array}\n",
    "\n",
    "numpy_79()"
   ]
  },
  {
   "cell_type": "code",
   "execution_count": 81,
   "metadata": {
    "ExecuteTime": {
     "end_time": "2024-11-13T08:06:16.948923Z",
     "start_time": "2024-11-13T08:06:16.946609Z"
    }
   },
   "outputs": [
    {
     "name": "stdout",
     "output_type": "stream",
     "text": [
      "✅ Great job! Exercise completed successfully.\n"
     ]
    }
   ],
   "source": [
    "# Flip `flip_array` along the specified axis `flip_axis` using `np.flip()` and assign to `flipped_array`.\n",
    "@check_numpy_80\n",
    "def numpy_80(flip_array, flip_axis):\n",
    "    # This line is mandatory and should not be removed.\n",
    "    ex_stat_init = True\n",
    "\n",
    "    # BELOW GOES YOUR CODE\n",
    "    flipped_array = np.flip(flip_array, flip_axis )\n",
    "    # ABOVE GOES YOUR CODE\n",
    "    return {\"flipped_array\": flipped_array}\n",
    "\n",
    "numpy_80()"
   ]
  },
  {
   "cell_type": "code",
   "execution_count": 82,
   "metadata": {
    "ExecuteTime": {
     "end_time": "2024-11-13T08:06:16.984896Z",
     "start_time": "2024-11-13T08:06:16.982567Z"
    }
   },
   "outputs": [
    {
     "name": "stdout",
     "output_type": "stream",
     "text": [
      "✅ Great job! Exercise completed successfully.\n"
     ]
    }
   ],
   "source": [
    "# Simulate rolling a six-sided die `num_rolls` times to generate an array `dice_rolls`.\n",
    "@check_numpy_81\n",
    "def numpy_81(num_rolls):\n",
    "    # This line is mandatory and should not be removed.\n",
    "    ex_stat_init = True\n",
    "\n",
    "    # BELOW GOES YOUR CODE\n",
    "    dice_rolls = np.random.randint(1,7, size = num_rolls)\n",
    "    # ABOVE GOES YOUR CODE\n",
    "    return {\"dice_rolls\": dice_rolls}\n",
    "\n",
    "numpy_81()"
   ]
  },
  {
   "cell_type": "code",
   "execution_count": 83,
   "metadata": {
    "ExecuteTime": {
     "end_time": "2024-11-13T08:06:17.018507Z",
     "start_time": "2024-11-13T08:06:17.015913Z"
    }
   },
   "outputs": [
    {
     "name": "stdout",
     "output_type": "stream",
     "text": [
      "✅ Great job! Exercise completed successfully.\n"
     ]
    }
   ],
   "source": [
    "# Given two arrays `logical_array_a` and `logical_array_b`, perform a logical `and` operation and save result in `logical_and_result`.\n",
    "@check_numpy_82\n",
    "def numpy_82(logical_array_a, logical_array_b):\n",
    "    # This line is mandatory and should not be removed.\n",
    "    ex_stat_init = True\n",
    "\n",
    "    # BELOW GOES YOUR CODE\n",
    "    logical_and_result = np.logical_and(logical_array_a,logical_array_b)\n",
    "    # ABOVE GOES YOUR CODE\n",
    "    return {\"logical_and_result\": logical_and_result}\n",
    "\n",
    "numpy_82()"
   ]
  },
  {
   "cell_type": "code",
   "execution_count": 84,
   "metadata": {
    "ExecuteTime": {
     "end_time": "2024-11-13T08:06:17.094870Z",
     "start_time": "2024-11-13T08:06:17.092751Z"
    }
   },
   "outputs": [
    {
     "name": "stdout",
     "output_type": "stream",
     "text": [
      "✅ Great job! Exercise completed successfully.\n"
     ]
    }
   ],
   "source": [
    "# Reverse the elements in `reverse_array` and store the result in `reversed_array`.\n",
    "@check_numpy_83\n",
    "def numpy_83(reverse_array):\n",
    "    # This line is mandatory and should not be removed.\n",
    "    ex_stat_init = True\n",
    "\n",
    "    # BELOW GOES YOUR CODE\n",
    "    reversed_array = reverse_array[::-1]\n",
    "    # ABOVE GOES YOUR CODE\n",
    "    return {\"reversed_array\": reversed_array}\n",
    "\n",
    "numpy_83()"
   ]
  },
  {
   "cell_type": "code",
   "execution_count": 85,
   "metadata": {
    "ExecuteTime": {
     "end_time": "2024-11-13T08:06:17.154822Z",
     "start_time": "2024-11-13T08:06:17.152335Z"
    }
   },
   "outputs": [
    {
     "name": "stdout",
     "output_type": "stream",
     "text": [
      "✅ Great job! Exercise completed successfully.\n"
     ]
    }
   ],
   "source": [
    "# Compute the cross-product of vectors `vector_a` and `vector_b` and store it in `cross_product_result`.\n",
    "@check_numpy_84\n",
    "def numpy_84(vector_a, vector_b):\n",
    "    # This line is mandatory and should not be removed.\n",
    "    ex_stat_init = True\n",
    "\n",
    "    # BELOW GOES YOUR CODE\n",
    "    cross_product_result = np.cross(vector_a,vector_b)\n",
    "    # ABOVE GOES YOUR CODE\n",
    "    return {\"cross_product_result\": cross_product_result}\n",
    "\n",
    "numpy_84()"
   ]
  },
  {
   "cell_type": "code",
   "execution_count": 86,
   "metadata": {
    "ExecuteTime": {
     "end_time": "2024-11-13T08:06:17.199683Z",
     "start_time": "2024-11-13T08:06:17.197626Z"
    }
   },
   "outputs": [
    {
     "name": "stdout",
     "output_type": "stream",
     "text": [
      "✅ Great job! Exercise completed successfully.\n"
     ]
    }
   ],
   "source": [
    "# Use `np.vstack()` to vertically stack `vert_stack_a` and `vert_stack_b` and assign to `vertically_stacked`.\n",
    "@check_numpy_85\n",
    "def numpy_85(vert_stack_a, vert_stack_b):\n",
    "    # This line is mandatory and should not be removed.\n",
    "    ex_stat_init = True\n",
    "\n",
    "    # BELOW GOES YOUR CODE\n",
    "    vertically_stacked = np.vstack((vert_stack_a, vert_stack_b))\n",
    "    # ABOVE GOES YOUR CODE\n",
    "    return {\"vertically_stacked\": vertically_stacked}\n",
    "\n",
    "numpy_85()"
   ]
  },
  {
   "cell_type": "code",
   "execution_count": 87,
   "metadata": {
    "ExecuteTime": {
     "end_time": "2024-11-13T08:06:17.251102Z",
     "start_time": "2024-11-13T08:06:17.248562Z"
    }
   },
   "outputs": [
    {
     "name": "stdout",
     "output_type": "stream",
     "text": [
      "✅ Great job! Exercise completed successfully.\n"
     ]
    }
   ],
   "source": [
    "# Create a `checkered_matrix` of size `check_size` with alternating zeros and ones.\n",
    "@check_numpy_86\n",
    "def numpy_86(check_size):\n",
    "    # This line is mandatory and should not be removed.\n",
    "    ex_stat_init = True\n",
    "\n",
    "    # BELOW GOES YOUR CODE\n",
    "    checkered_matrix = np.zeros(check_size)\n",
    "    checkered_matrix[1::2, ::2] = 1\n",
    "    checkered_matrix[::2, 1::2] = 1\n",
    "    # ABOVE GOES YOUR CODE\n",
    "    return {\"checkered_matrix\": checkered_matrix}\n",
    "\n",
    "numpy_86()"
   ]
  },
  {
   "cell_type": "code",
   "execution_count": 88,
   "metadata": {
    "ExecuteTime": {
     "end_time": "2024-11-13T08:06:17.289602Z",
     "start_time": "2024-11-13T08:06:17.286830Z"
    }
   },
   "outputs": [
    {
     "name": "stdout",
     "output_type": "stream",
     "text": [
      "✅ Great job! Exercise completed successfully.\n"
     ]
    }
   ],
   "source": [
    "# Determine the rank of `rank_matrix` using `np.linalg.matrix_rank()`.\n",
    "@check_numpy_87\n",
    "def numpy_87(rank_matrix):\n",
    "    # This line is mandatory and should not be removed.\n",
    "    ex_stat_init = True\n",
    "\n",
    "    # BELOW GOES YOUR CODE\n",
    "    matrix_rank = np.linalg.matrix_rank(rank_matrix)\n",
    "    # ABOVE GOES YOUR CODE\n",
    "    return {\"matrix_rank\": matrix_rank}\n",
    "\n",
    "numpy_87()"
   ]
  },
  {
   "cell_type": "code",
   "execution_count": 89,
   "metadata": {
    "ExecuteTime": {
     "end_time": "2024-11-13T08:06:17.341580Z",
     "start_time": "2024-11-13T08:06:17.339103Z"
    }
   },
   "outputs": [
    {
     "name": "stdout",
     "output_type": "stream",
     "text": [
      "✅ Great job! Exercise completed successfully.\n"
     ]
    }
   ],
   "source": [
    "# Extract all non-diagonal elements from `non_diag_matrix` and store them in `off_diagonal`.\n",
    "@check_numpy_88\n",
    "def numpy_88(non_diag_matrix):\n",
    "    # This line is mandatory and should not be removed.\n",
    "    ex_stat_init = True\n",
    "\n",
    "    # BELOW GOES YOUR CODE\n",
    "    mask = np.eye(non_diag_matrix.shape[0], dtype=bool)#eye.1 true pe diag, 0 restul false\n",
    "    off_diagonal = non_diag_matrix[~mask]#~ inverted, true->false, false->\n",
    "    # ABOVE GOES YOUR CODE\n",
    "    return {\"off_diagonal\": off_diagonal}\n",
    "\n",
    "numpy_88()"
   ]
  },
  {
   "cell_type": "code",
   "execution_count": 90,
   "metadata": {
    "ExecuteTime": {
     "end_time": "2024-11-13T08:06:17.386073Z",
     "start_time": "2024-11-13T08:06:17.383756Z"
    }
   },
   "outputs": [
    {
     "name": "stdout",
     "output_type": "stream",
     "text": [
      "✅ Great job! Exercise completed successfully.\n"
     ]
    }
   ],
   "source": [
    "# Create a boolean mask `boolean_mask` for the array `mask_less_array` with elements less than `threshold_value`.\n",
    "@check_numpy_89\n",
    "def numpy_89(mask_less_array, threshold_value):\n",
    "    # This line is mandatory and should not be removed.\n",
    "    ex_stat_init = True\n",
    "\n",
    "    # BELOW GOES YOUR CODE\n",
    "    boolean_mask = mask_less_array < threshold_value\n",
    "    # ABOVE GOES YOUR CODE\n",
    "    return {\"boolean_mask\": boolean_mask}\n",
    "\n",
    "numpy_89()"
   ]
  },
  {
   "cell_type": "code",
   "execution_count": 91,
   "metadata": {
    "ExecuteTime": {
     "end_time": "2024-11-13T08:06:17.421334Z",
     "start_time": "2024-11-13T08:06:17.419035Z"
    }
   },
   "outputs": [
    {
     "name": "stdout",
     "output_type": "stream",
     "text": [
      "✅ Great job! Exercise completed successfully.\n"
     ]
    }
   ],
   "source": [
    "# Compute the cumulative product of `cumprod_array` and assign the result to `cumulative_product`.\n",
    "@check_numpy_90\n",
    "def numpy_90(cumprod_array):\n",
    "    # This line is mandatory and should not be removed.\n",
    "    ex_stat_init = True\n",
    "\n",
    "    # BELOW GOES YOUR CODE\n",
    "    cumulative_product = np.cumprod(cumprod_array)\n",
    "    # ABOVE GOES YOUR CODE\n",
    "    return {\"cumulative_product\": cumulative_product}\n",
    "\n",
    "numpy_90()"
   ]
  },
  {
   "cell_type": "code",
   "execution_count": 92,
   "metadata": {
    "ExecuteTime": {
     "end_time": "2024-11-13T08:06:17.458087Z",
     "start_time": "2024-11-13T08:06:17.455462Z"
    }
   },
   "outputs": [
    {
     "name": "stdout",
     "output_type": "stream",
     "text": [
      "✅ Great job! Exercise completed successfully.\n"
     ]
    }
   ],
   "source": [
    "# Calculate the absolute differences between `abs_diff_a1` and `abs_diff_a2`, storing the result in `absolute_diff`.\n",
    "@check_numpy_91\n",
    "def numpy_91(abs_diff_a1, abs_diff_a2):\n",
    "    # This line is mandatory and should not be removed.\n",
    "    ex_stat_init = True\n",
    "\n",
    "    # BELOW GOES YOUR CODE\n",
    "    absolute_diff = np.abs(abs_diff_a1 - abs_diff_a2)\n",
    "    # ABOVE GOES YOUR CODE\n",
    "    return {\"absolute_diff\": absolute_diff}\n",
    "\n",
    "numpy_91()"
   ]
  },
  {
   "cell_type": "code",
   "execution_count": 93,
   "metadata": {
    "ExecuteTime": {
     "end_time": "2024-11-13T08:06:17.522571Z",
     "start_time": "2024-11-13T08:06:17.520021Z"
    }
   },
   "outputs": [
    {
     "name": "stdout",
     "output_type": "stream",
     "text": [
      "✅ Great job! Exercise completed successfully.\n"
     ]
    }
   ],
   "source": [
    "# Check if `elem_equal_a` and `elem_equal_b` are element-wise equal and store the boolean result in `elementwise_equality`.\n",
    "@check_numpy_92\n",
    "def numpy_92(elem_equal_a, elem_equal_b):\n",
    "    # This line is mandatory and should not be removed.\n",
    "    ex_stat_init = True\n",
    "\n",
    "    # BELOW GOES YOUR CODE\n",
    "    elementwise_equality = np.array_equal(elem_equal_a, elem_equal_b)\n",
    "    # ABOVE GOES YOUR CODE\n",
    "    return {\"elementwise_equality\": elementwise_equality}\n",
    "\n",
    "numpy_92()"
   ]
  },
  {
   "cell_type": "code",
   "execution_count": 94,
   "metadata": {
    "ExecuteTime": {
     "end_time": "2024-11-13T08:06:17.614692Z",
     "start_time": "2024-11-13T08:06:17.611454Z"
    }
   },
   "outputs": [
    {
     "name": "stdout",
     "output_type": "stream",
     "text": [
      "✅ Great job! Exercise completed successfully.\n"
     ]
    }
   ],
   "source": [
    "# Create `filtered_within_range` by extracting values from `range_filter_array` that are between `lower_bound` and `upper_bound`.\n",
    "@check_numpy_93\n",
    "def numpy_93(range_filter_array, lower_bound, upper_bound):\n",
    "    # This line is mandatory and should not be removed.\n",
    "    ex_stat_init = True\n",
    "\n",
    "    # BELOW GOES YOUR CODE\n",
    "    filtered_within_range = np.clip(range_filter_array, lower_bound, upper_bound)\n",
    "    # ABOVE GOES YOUR CODE\n",
    "    return {\"filtered_within_range\": filtered_within_range}\n",
    "\n",
    "numpy_93()"
   ]
  },
  {
   "cell_type": "code",
   "execution_count": 95,
   "metadata": {
    "ExecuteTime": {
     "end_time": "2024-11-13T08:06:17.736137Z",
     "start_time": "2024-11-13T08:06:17.733883Z"
    }
   },
   "outputs": [
    {
     "name": "stdout",
     "output_type": "stream",
     "text": [
      "✅ Great job! Exercise completed successfully.\n"
     ]
    }
   ],
   "source": [
    "# Multiply a 1D array `broad_1d` with each row of a 2D array `broad_2d`, and store the result in `broadcast_mult_result`.\n",
    "@check_numpy_94\n",
    "def numpy_94(broad_1d, broad_2d):\n",
    "    # This line is mandatory and should not be removed.\n",
    "    ex_stat_init = True\n",
    "\n",
    "    # BELOW GOES YOUR CODE\n",
    "    broadcast_mult_result = broad_1d * broad_2d\n",
    "    # ABOVE GOES YOUR CODE\n",
    "    return {\"broadcast_mult_result\": broadcast_mult_result}\n",
    "\n",
    "numpy_94()"
   ]
  },
  {
   "cell_type": "code",
   "execution_count": 96,
   "metadata": {
    "ExecuteTime": {
     "end_time": "2024-11-13T08:06:17.864719Z",
     "start_time": "2024-11-13T08:06:17.862469Z"
    }
   },
   "outputs": [
    {
     "name": "stdout",
     "output_type": "stream",
     "text": [
      "✅ Great job! Exercise completed successfully.\n"
     ]
    }
   ],
   "source": [
    "# Multiply a 1D array `broad_1d` with each row of a 2D array `broad_2d`, and store the result in `broadcast_mult_result`.\n",
    "@check_numpy_95\n",
    "def numpy_95(broad_1d, broad_2d):\n",
    "    # This line is mandatory and should not be removed.\n",
    "    ex_stat_init = True\n",
    "\n",
    "    # BELOW GOES YOUR CODE\n",
    "    broadcast_mult_result = broad_1d * broad_2d\n",
    "    # ABOVE GOES YOUR CODE\n",
    "    return {\"broadcast_mult_result\": broadcast_mult_result}\n",
    "\n",
    "numpy_95()"
   ]
  },
  {
   "cell_type": "code",
   "execution_count": 97,
   "metadata": {
    "ExecuteTime": {
     "end_time": "2024-11-13T08:06:17.995431Z",
     "start_time": "2024-11-13T08:06:17.992370Z"
    }
   },
   "outputs": [
    {
     "name": "stdout",
     "output_type": "stream",
     "text": [
      "✅ Great job! Exercise completed successfully.\n"
     ]
    }
   ],
   "source": [
    "# Apply logarithm base 10 to `log10_array` using `np.log10()` and save the result in `log10_result`.\n",
    "@check_numpy_96\n",
    "def numpy_96(log10_array):\n",
    "    # This line is mandatory and should not be removed.\n",
    "    ex_stat_init = True\n",
    "\n",
    "    # BELOW GOES YOUR CODE\n",
    "    log10_result = np.log10(log10_array)\n",
    "    # ABOVE GOES YOUR CODE\n",
    "    return {\"log10_result\": log10_result}\n",
    "\n",
    "numpy_96()"
   ]
  },
  {
   "cell_type": "code",
   "execution_count": 98,
   "metadata": {
    "ExecuteTime": {
     "end_time": "2024-11-13T08:06:18.125417Z",
     "start_time": "2024-11-13T08:06:18.121973Z"
    }
   },
   "outputs": [
    {
     "name": "stdout",
     "output_type": "stream",
     "text": [
      "✅ Great job! Exercise completed successfully.\n"
     ]
    }
   ],
   "source": [
    "# Form a lower triangular matrix from `lower_tri_matrix` using `np.tril()`.\n",
    "@check_numpy_97\n",
    "def numpy_97(lower_tri_matrix):\n",
    "    # This line is mandatory and should not be removed.\n",
    "    ex_stat_init = True\n",
    "\n",
    "    # BELOW GOES YOUR CODE\n",
    "    lower_triangular = np.tril(lower_tri_matrix)\n",
    "    # ABOVE GOES YOUR CODE\n",
    "    return {\"lower_triangular\": lower_triangular}\n",
    "\n",
    "numpy_97()"
   ]
  },
  {
   "cell_type": "code",
   "execution_count": 99,
   "metadata": {
    "ExecuteTime": {
     "end_time": "2024-11-13T08:06:18.218238Z",
     "start_time": "2024-11-13T08:06:18.215988Z"
    }
   },
   "outputs": [
    {
     "name": "stdout",
     "output_type": "stream",
     "text": [
      "✅ Great job! Exercise completed successfully.\n"
     ]
    }
   ],
   "source": [
    "# Determine if there are any `True` elements in `bool_array`, assigning the result to `any_true`.\n",
    "@check_numpy_98\n",
    "def numpy_98(bool_array):\n",
    "    # This line is mandatory and should not be removed.\n",
    "    ex_stat_init = True\n",
    "\n",
    "    # BELOW GOES YOUR CODE\n",
    "    any_true = np.any(bool_array)\n",
    "    # ABOVE GOES YOUR CODE\n",
    "    return {\"any_true\": any_true}\n",
    "\n",
    "numpy_98()"
   ]
  },
  {
   "cell_type": "code",
   "execution_count": 100,
   "metadata": {
    "ExecuteTime": {
     "end_time": "2024-11-13T08:06:18.305850Z",
     "start_time": "2024-11-13T08:06:18.303467Z"
    }
   },
   "outputs": [
    {
     "name": "stdout",
     "output_type": "stream",
     "text": [
      "✅ Great job! Exercise completed successfully.\n"
     ]
    }
   ],
   "source": [
    "# Check if all elements in `bool_check_array` are `True`, and store the result in `all_true`.\n",
    "@check_numpy_99\n",
    "def numpy_99(bool_check_array):\n",
    "    # This line is mandatory and should not be removed.\n",
    "    ex_stat_init = True\n",
    "\n",
    "    # BELOW GOES YOUR CODE\n",
    "    all_true = np.all(bool_check_array)\n",
    "    # ABOVE GOES YOUR CODE\n",
    "    return {\"all_true\": all_true}\n",
    "\n",
    "numpy_99()"
   ]
  },
  {
   "cell_type": "code",
   "execution_count": 101,
   "metadata": {
    "ExecuteTime": {
     "end_time": "2024-11-13T08:06:18.407102Z",
     "start_time": "2024-11-13T08:06:18.403796Z"
    }
   },
   "outputs": [
    {
     "name": "stdout",
     "output_type": "stream",
     "text": [
      "✅ Great job! Exercise completed successfully.\n"
     ]
    }
   ],
   "source": [
    "# Given two vectors `cos_vector_a` and `cos_vector_b`, calculate the cosine similarity and store it in `cosine_similarity`.\n",
    "@check_numpy_100\n",
    "def numpy_100(cos_vector_a, cos_vector_b):\n",
    "    # This line is mandatory and should not be removed.\n",
    "    ex_stat_init = True\n",
    "\n",
    "    # BELOW GOES YOUR CODE\n",
    "    product = np.dot(cos_vector_a, cos_vector_b)\n",
    "    norm1 = np.linalg.norm(cos_vector_a)\n",
    "    norm2 = np.linalg.norm(cos_vector_b)\n",
    "    cosine_similarity = product / (norm1 * norm2)\n",
    "    # ABOVE GOES YOUR CODE\n",
    "    return {\"cosine_similarity\": cosine_similarity}\n",
    "\n",
    "numpy_100()"
   ]
  },
  {
   "cell_type": "code",
   "execution_count": 102,
   "metadata": {
    "ExecuteTime": {
     "end_time": "2024-11-13T08:06:18.517954Z",
     "start_time": "2024-11-13T08:06:18.514474Z"
    }
   },
   "outputs": [
    {
     "name": "stdout",
     "output_type": "stream",
     "text": [
      "✅ Great job! Exercise completed successfully.\n"
     ]
    }
   ],
   "source": [
    "# Create a function named `reverse_sort_numpy` that takes a NumPy array `arr`, reverses it, removes duplicate elements using NumPy, and returns a sorted version of the array.\n",
    "\n",
    "def reverse_sort_numpy(arr):\n",
    "    arr = np.flip(arr) #reverse\n",
    "    arr = np.unique(arr) #removes duplicates\n",
    "    arr = np.sort(arr) #sorts\n",
    "    return arr\n",
    "    \n",
    "@check_numpy_101\n",
    "def numpy_101():\n",
    "    # This line is mandatory and should not be removed.\n",
    "    ex_stat_init = True\n",
    "\n",
    "    # BELOW GOES YOUR CODE\n",
    "    \n",
    "    # ABOVE GOES YOUR CODE\n",
    "    return {\"reverse_sort_numpy\": reverse_sort_numpy}\n",
    "\n",
    "numpy_101()"
   ]
  },
  {
   "cell_type": "code",
   "execution_count": 103,
   "metadata": {
    "ExecuteTime": {
     "end_time": "2024-11-13T08:06:18.589880Z",
     "start_time": "2024-11-13T08:06:18.585458Z"
    }
   },
   "outputs": [
    {
     "data": {
      "text/plain": [
       "{'normalize_scale_numpy': <function __main__.normalize_scale_numpy(arr, min_val, max_val)>}"
      ]
     },
     "execution_count": 103,
     "metadata": {},
     "output_type": "execute_result"
    }
   ],
   "source": [
    "# Write a function `normalize_scale_numpy` that takes a NumPy array `arr` and a range `min_val`, `max_val`. Use NumPy to normalize the array to the range [0, 1], then scale it to the given range, and return the resulting array.\n",
    "@check_numpy_102\n",
    "def normalize_scale_numpy (arr, min_val, max_val):\n",
    "    min_arr = np.min(arr)\n",
    "    max_arr = np.max(arr)\n",
    "    normalized_arr = (arr - min_arr) / (max_arr - min_arr)\n",
    "    scaled_arr = normalized_arr * (max_val - min_val) + min_val\n",
    "    return scaled_arr\n",
    "    \n",
    "def numpy_102():\n",
    "    # This line is mandatory and should not be removed.\n",
    "    ex_stat_init = True\n",
    "\n",
    "    # BELOW GOES YOUR CODE\n",
    " \n",
    "    # ABOVE GOES YOUR CODE\n",
    "    return {\"normalize_scale_numpy\": normalize_scale_numpy}\n",
    "\n",
    "numpy_102()"
   ]
  },
  {
   "cell_type": "code",
   "execution_count": 104,
   "metadata": {
    "ExecuteTime": {
     "end_time": "2024-11-13T08:06:18.664190Z",
     "start_time": "2024-11-13T08:06:18.661697Z"
    }
   },
   "outputs": [
    {
     "data": {
      "text/plain": [
       "{'filter_average_numpy': <function __main__.filter_average_numpy(data, limit)>}"
      ]
     },
     "execution_count": 104,
     "metadata": {},
     "output_type": "execute_result"
    }
   ],
   "source": [
    "# Develop a function `filter_average_numpy` that takes a NumPy array `data` and a threshold `limit`. Use NumPy to filter elements greater than `limit`, compute their average, and return this average.\n",
    "@check_numpy_103\n",
    "def filter_average_numpy (data, limit):\n",
    "    data = data[data > limit]\n",
    "    data_mean = np.mean(data)\n",
    "    return data_mean\n",
    "\n",
    "def numpy_103():\n",
    "    # This line is mandatory and should not be removed.\n",
    "    ex_stat_init = True\n",
    "\n",
    "    # BELOW GOES YOUR CODE\n",
    "\n",
    "    # ABOVE GOES YOUR CODE\n",
    "    return {\"filter_average_numpy\": filter_average_numpy}\n",
    "\n",
    "numpy_103()"
   ]
  },
  {
   "cell_type": "code",
   "execution_count": 105,
   "metadata": {
    "ExecuteTime": {
     "end_time": "2024-11-13T08:06:18.755798Z",
     "start_time": "2024-11-13T08:06:18.752492Z"
    }
   },
   "outputs": [
    {
     "data": {
      "text/plain": [
       "{'capitalize_count_numpy': <function __main__.capitalize_count_numpy(sentence_array)>}"
      ]
     },
     "execution_count": 105,
     "metadata": {},
     "output_type": "execute_result"
    }
   ],
   "source": [
    "# Create a function `capitalize_count_numpy` that converts a NumPy array of strings `sentence_array` to capitalize each string's first letter, counts the number of elements, and returns a tuple containing the modified array and the count.\n",
    "@check_numpy_104\n",
    "def capitalize_count_numpy(sentence_array):\n",
    "    capitalized_array = np.char.capitalize(sentence_array)\n",
    "    number_elements = capitalized_array.size \n",
    "    return capitalized_array,number_elements\n",
    "def numpy_104():\n",
    "    # This line is mandatory and should not be removed.\n",
    "    ex_stat_init = True\n",
    "\n",
    "    # BELOW GOES YOUR CODE\n",
    "\n",
    "    # ABOVE GOES YOUR CODE\n",
    "    return {\"capitalize_count_numpy\": capitalize_count_numpy}\n",
    "\n",
    "numpy_104()"
   ]
  },
  {
   "cell_type": "code",
   "execution_count": 106,
   "metadata": {
    "ExecuteTime": {
     "end_time": "2024-11-13T08:06:18.818579Z",
     "start_time": "2024-11-13T08:06:18.814985Z"
    }
   },
   "outputs": [
    {
     "data": {
      "text/plain": [
       "{'clean_categorize_numpy': <function __main__.clean_categorize_numpy(items)>}"
      ]
     },
     "execution_count": 106,
     "metadata": {},
     "output_type": "execute_result"
    }
   ],
   "source": [
    "# Implement a function `clean_categorize_numpy` that processes a NumPy array of strings `items` by stripping spaces and converting to lowercase with NumPy operations, classifying them into 'short' if under 5 characters or 'long' otherwise, returning the counts in a dictionary.\n",
    "@check_numpy_105\n",
    "def clean_categorize_numpy (items):\n",
    "    cleaned_items = np.char.strip(np.char.lower(items))\n",
    "    length = np.char.str_len(cleaned_items)\n",
    "\n",
    "    short_count = np.sum(length < 5)  \n",
    "    long_count = len(cleaned_items) - short_count \n",
    "    return {'short': short_count, 'long': long_count}\n",
    "\n",
    "def numpy_105():\n",
    "    # This line is mandatory and should not be removed.\n",
    "    ex_stat_init = True\n",
    "\n",
    "    # BELOW GOES YOUR CODE\n",
    "\n",
    "    # ABOVE GOES YOUR CODE\n",
    "    return {\"clean_categorize_numpy\": clean_categorize_numpy}\n",
    "\n",
    "numpy_105()"
   ]
  },
  {
   "cell_type": "code",
   "execution_count": 107,
   "metadata": {
    "ExecuteTime": {
     "end_time": "2024-11-13T08:06:18.877043Z",
     "start_time": "2024-11-13T08:06:18.873100Z"
    }
   },
   "outputs": [
    {
     "data": {
      "text/plain": [
       "{'remove_outliers_stats_numpy': <function __main__.remove_outliers_stats_numpy(num_array)>}"
      ]
     },
     "execution_count": 107,
     "metadata": {},
     "output_type": "execute_result"
    }
   ],
   "source": [
    "# Write a function `remove_outliers_stats_numpy` that takes a NumPy array `num_array`, removes outliers more than two standard deviations from the mean using NumPy, and returns a dictionary with 'mean', 'std', and 'filtered' keys.\n",
    "@check_numpy_106\n",
    "def remove_outliers_stats_numpy(num_array):\n",
    "    array_mean = np.mean(num_array)\n",
    "    array_std = np.std(num_array)\n",
    "    \n",
    "    array_filtered = num_array[np.abs(num_array - array_mean) <= 2 * array_std]\n",
    "    \n",
    "def numpy_106():\n",
    "    # This line is mandatory and should not be removed.\n",
    "    ex_stat_init = True\n",
    "\n",
    "    # BELOW GOES YOUR CODE\n",
    "\n",
    "    # ABOVE GOES YOUR CODE\n",
    "    return {\"remove_outliers_stats_numpy\": remove_outliers_stats_numpy}\n",
    "\n",
    "numpy_106()"
   ]
  },
  {
   "cell_type": "code",
   "execution_count": 108,
   "metadata": {
    "ExecuteTime": {
     "end_time": "2024-11-13T08:06:18.955827Z",
     "start_time": "2024-11-13T08:06:18.952441Z"
    }
   },
   "outputs": [
    {
     "name": "stdout",
     "output_type": "stream",
     "text": [
      "✅ Great job! Exercise completed successfully.\n"
     ]
    }
   ],
   "source": [
    "# Create a function `unique_sorted_numpy` that accepts a NumPy array `word_arr`. Use NumPy to remove duplicates, sort them alphabetically, and return the sorted array.\n",
    "@check_numpy_107\n",
    "def numpy_107():\n",
    "    def unique_sorted_numpy(word_arr):\n",
    "        unique_arr = np.unique(word_arr)\n",
    "        sort_arr = np.sort(unique_arr)\n",
    "        return sort_arr\n",
    "        \n",
    "        \n",
    "    # This line is mandatory and should not be removed.\n",
    "    ex_stat_init = True\n",
    "\n",
    "    # BELOW GOES YOUR CODE\n",
    "\n",
    "    # ABOVE GOES YOUR CODE\n",
    "    return {\"unique_sorted_numpy\": unique_sorted_numpy}\n",
    "\n",
    "numpy_107()"
   ]
  },
  {
   "cell_type": "code",
   "execution_count": 109,
   "metadata": {
    "ExecuteTime": {
     "end_time": "2024-11-13T08:06:19.051579Z",
     "start_time": "2024-11-13T08:06:19.048518Z"
    }
   },
   "outputs": [
    {
     "data": {
      "text/plain": [
       "{'format_join_numpy': <function __main__.format_join_numpy(words_array)>}"
      ]
     },
     "execution_count": 109,
     "metadata": {},
     "output_type": "execute_result"
    }
   ],
   "source": [
    "# Implement a function `format_join_numpy` that takes a NumPy array of strings `words_array`, uses NumPy to title case each word, filter words less than 4 characters, and joins them with a hyphen, returning the final string.\n",
    "@check_numpy_108\n",
    "def format_join_numpy(words_array):\n",
    "    titled_array = np.char.title(words_array)\n",
    "    filtered_array = titled_array[titled_array.size > 4]\n",
    "    joined_array = '-'.join(filtered_array)\n",
    "    return joined_array\n",
    "    \n",
    "def numpy_108():\n",
    "    \n",
    "    # This line is mandatory and should not be removed.\n",
    "    ex_stat_init = True\n",
    "\n",
    "    # BELOW GOES YOUR CODE\n",
    "\n",
    "    # ABOVE GOES YOUR CODE\n",
    "    return {\"format_join_numpy\": format_join_numpy}\n",
    "\n",
    "numpy_108()"
   ]
  },
  {
   "cell_type": "code",
   "execution_count": 110,
   "metadata": {
    "ExecuteTime": {
     "end_time": "2024-11-13T08:06:19.117676Z",
     "start_time": "2024-11-13T08:06:19.113462Z"
    }
   },
   "outputs": [
    {
     "data": {
      "text/plain": [
       "{'classify_numbers_numpy': <function __main__.classify_numbers_numpy(nums)>}"
      ]
     },
     "execution_count": 110,
     "metadata": {},
     "output_type": "execute_result"
    }
   ],
   "source": [
    "# Write a function `classify_numbers_numpy` that takes a NumPy array `nums`. Use NumPy functions to detect prime numbers and separate them from non-prime numbers, returning both as arrays.\n",
    "@check_numpy_109\n",
    "def is_prime(n):\n",
    "    if n <= 1:\n",
    "        return False\n",
    "    for i in range(2, int(np.sqrt(n)) + 1):\n",
    "        if n % i == 0:\n",
    "            return False\n",
    "    return True\n",
    "def classify_numbers_numpy(nums):\n",
    "    prime_mask = np.vectorize(is_prime)(nums) \n",
    "    prime_array = nums[prime_mask]\n",
    "    non_prime_array = nums[~prime_mask]\n",
    "    return prime_array, non_prime_array\n",
    "\n",
    "def numpy_109():\n",
    "    # This line is mandatory and should not be removed.\n",
    "    ex_stat_init = True\n",
    "\n",
    "    # BELOW GOES YOUR CODE\n",
    "\n",
    "    # ABOVE GOES YOUR CODE\n",
    "    return {\"classify_numbers_numpy\": classify_numbers_numpy}\n",
    "\n",
    "numpy_109()"
   ]
  },
  {
   "cell_type": "code",
   "execution_count": 111,
   "metadata": {
    "ExecuteTime": {
     "end_time": "2024-11-13T08:06:19.173790Z",
     "start_time": "2024-11-13T08:06:19.170583Z"
    }
   },
   "outputs": [
    {
     "data": {
      "text/plain": [
       "{'flatten_filter_numpy': <function __main__.flatten_filter_numpy(list_of_arrays)>}"
      ]
     },
     "execution_count": 111,
     "metadata": {},
     "output_type": "execute_result"
    }
   ],
   "source": [
    "# Develop a function `flatten_filter_numpy` that accepts a NumPy array of arrays `list_of_arrays`, flattens it using NumPy, filters out numbers less than 10 using NumPy, and returns the filtered flat array.\n",
    "@check_numpy_110\n",
    "def flatten_filter_numpy(list_of_arrays):\n",
    "    concatenated_array = np.concatenate(list_of_arrays)\n",
    "    flatten_array = concatenated_array.flatten()\n",
    "    filtered_array = flatten_array[flatten_array > 10] \n",
    "    return filtered_array\n",
    "\n",
    "def numpy_110():\n",
    "    # This line is mandatory and should not be removed.\n",
    "    ex_stat_init = True\n",
    "\n",
    "    # BELOW GOES YOUR CODE\n",
    "\n",
    "    # ABOVE GOES YOUR CODE\n",
    "    return {\"flatten_filter_numpy\": flatten_filter_numpy}\n",
    "\n",
    "numpy_110()"
   ]
  },
  {
   "cell_type": "code",
   "execution_count": 112,
   "metadata": {
    "ExecuteTime": {
     "end_time": "2024-11-13T08:06:19.229048Z",
     "start_time": "2024-11-13T08:06:19.225048Z"
    }
   },
   "outputs": [
    {
     "data": {
      "text/plain": [
       "{'square_filter_negatives_numpy': <function __main__.square_filter_negatives_numpy(arr)>}"
      ]
     },
     "execution_count": 112,
     "metadata": {},
     "output_type": "execute_result"
    }
   ],
   "source": [
    "# Create a function `square_filter_negatives_numpy` that takes a NumPy array `arr`, squares each element using NumPy array operations, removes negative elements, and returns the resulting array.\n",
    "@check_numpy_111\n",
    "def square_filter_negatives_numpy(arr):\n",
    "    squared_arr = np.square(arr)\n",
    "    removed_negatives_numbers = squared_arr[squared_arr >= 0]\n",
    "    return removed_negatives_numbers\n",
    "\n",
    "def numpy_111():\n",
    "    # This line is mandatory and should not be removed.\n",
    "    ex_stat_init = True\n",
    "\n",
    "    # BELOW GOES YOUR CODE\n",
    "\n",
    "    # ABOVE GOES YOUR CODE\n",
    "    return {\"square_filter_negatives_numpy\": square_filter_negatives_numpy}\n",
    "\n",
    "numpy_111()"
   ]
  },
  {
   "cell_type": "code",
   "execution_count": 113,
   "metadata": {
    "ExecuteTime": {
     "end_time": "2024-11-13T08:06:19.289800Z",
     "start_time": "2024-11-13T08:06:19.286588Z"
    }
   },
   "outputs": [
    {
     "data": {
      "text/plain": [
       "{'divide_round_numpy': <function __main__.divide_round_numpy(values, d)>}"
      ]
     },
     "execution_count": 113,
     "metadata": {},
     "output_type": "execute_result"
    }
   ],
   "source": [
    "# Implement a function `divide_round_numpy` that takes a NumPy array `values` and a divisor `d`. Divide each element using NumPy, round to two decimal places, and return the resulting array.\n",
    "@check_numpy_112\n",
    "def divide_round_numpy(values, d):\n",
    "    divided_array = np.divide(values, d)\n",
    "    round_array = np.round(divided_array, d)\n",
    "    return round_array\n",
    "def numpy_112():\n",
    "    # This line is mandatory and should not be removed.\n",
    "    ex_stat_init = True\n",
    "\n",
    "    # BELOW GOES YOUR CODE\n",
    "\n",
    "    # ABOVE GOES YOUR CODE\n",
    "    return {\"divide_round_numpy\": divide_round_numpy}\n",
    "\n",
    "numpy_112()"
   ]
  },
  {
   "cell_type": "code",
   "execution_count": 114,
   "metadata": {
    "ExecuteTime": {
     "end_time": "2024-11-13T08:06:19.350070Z",
     "start_time": "2024-11-13T08:06:19.346772Z"
    }
   },
   "outputs": [
    {
     "data": {
      "text/plain": [
       "{'zip_sum_numpy': <function __main__.zip_sum_numpy(array1, array2)>}"
      ]
     },
     "execution_count": 114,
     "metadata": {},
     "output_type": "execute_result"
    }
   ],
   "source": [
    "# Write a function `zip_sum_numpy` that takes two NumPy arrays `array1` and `array2`, adds each corresponding element (pair) using NumPy, and returns a new array of these sums.\n",
    "@check_numpy_113\n",
    "def zip_sum_numpy (array1, array2):\n",
    "    sum_array = array1 + array2\n",
    "    return sum_array\n",
    "\n",
    "def numpy_113():\n",
    "    # This line is mandatory and should not be removed.\n",
    "    ex_stat_init = True\n",
    "\n",
    "    # BELOW GOES YOUR CODE\n",
    "\n",
    "    # ABOVE GOES YOUR CODE\n",
    "    return {\"zip_sum_numpy\": zip_sum_numpy}\n",
    "\n",
    "numpy_113()"
   ]
  },
  {
   "cell_type": "code",
   "execution_count": 115,
   "metadata": {
    "ExecuteTime": {
     "end_time": "2024-11-13T08:06:19.399465Z",
     "start_time": "2024-11-13T08:06:19.396224Z"
    }
   },
   "outputs": [
    {
     "data": {
      "text/plain": [
       "{'binary_classification_numpy': <function __main__.binary_classification_numpy(classes)>}"
      ]
     },
     "execution_count": 115,
     "metadata": {},
     "output_type": "execute_result"
    }
   ],
   "source": [
    "# Create a function `binary_classification_numpy` that takes an array `classes` with values `0` and `1`. Use NumPy to count each, calculate their percentages, and return a dictionary with this data.\n",
    "@check_numpy_114\n",
    "def binary_classification_numpy (classes):\n",
    "    values_1 = np.count_nonzero(classes)\n",
    "    values_0 = classes.size - values_1\n",
    "    percentage_0 = (values_0 / classes.size)*100\n",
    "    percentage_1 = (values_1 / classes.size)*100\n",
    "    return {\n",
    "        'values_1': values_1,\n",
    "        'values_0': values_0,\n",
    "        'percentage_0': percentage_0,\n",
    "        'percentage_1': percentage_1\n",
    "    }\n",
    "\n",
    "def numpy_114():\n",
    "    # This line is mandatory and should not be removed.\n",
    "    ex_stat_init = True\n",
    "\n",
    "    # BELOW GOES YOUR CODE\n",
    "\n",
    "    # ABOVE GOES YOUR CODE\n",
    "    return {\"binary_classification_numpy\": binary_classification_numpy}\n",
    "\n",
    "numpy_114()"
   ]
  },
  {
   "cell_type": "code",
   "execution_count": 116,
   "metadata": {
    "ExecuteTime": {
     "end_time": "2024-11-13T08:06:19.452556Z",
     "start_time": "2024-11-13T08:06:19.448771Z"
    }
   },
   "outputs": [
    {
     "data": {
      "text/plain": [
       "{'parse_convert_dates_numpy': <function __main__.parse_convert_dates_numpy(date_strs)>}"
      ]
     },
     "execution_count": 116,
     "metadata": {},
     "output_type": "execute_result"
    }
   ],
   "source": [
    "# Develop a function `parse_convert_dates_numpy` that processes a NumPy array of date strings `date_strs` in `MM/DD/YYYY` format, converting them into `YYYY-MM-DD` using NumPy, sorting them, and returning the sorted array.\n",
    "@check_numpy_115\n",
    "def parse_convert_dates_numpy(date_strs):\n",
    "    dates = np.array([date.astype(str)[:10] for date in date_strs])\n",
    "    sorted_dates = np.sort(dates)\n",
    "    return sorted_dates\n",
    "\n",
    "def numpy_115():\n",
    "    # This line is mandatory and should not be removed.\n",
    "    ex_stat_init = True\n",
    "\n",
    "    # BELOW GOES YOUR CODE\n",
    "\n",
    "    # ABOVE GOES YOUR CODE\n",
    "    return {\"parse_convert_dates_numpy\": parse_convert_dates_numpy}\n",
    "\n",
    "numpy_115()"
   ]
  },
  {
   "cell_type": "code",
   "execution_count": 117,
   "metadata": {
    "ExecuteTime": {
     "end_time": "2024-11-13T08:06:19.510848Z",
     "start_time": "2024-11-13T08:06:19.506513Z"
    }
   },
   "outputs": [
    {
     "data": {
      "text/plain": [
       "{'interleave_double_numpy': <function __main__.interleave_double_numpy(arr1, arr2)>}"
      ]
     },
     "execution_count": 117,
     "metadata": {},
     "output_type": "execute_result"
    }
   ],
   "source": [
    "# Implement a function `interleave_double_numpy` that accepts two NumPy arrays `arr1` and `arr2`. Use NumPy to interleave elements, double elements from `arr2`, and return the final array.\n",
    "@check_numpy_116\n",
    "def interleave_double_numpy (arr1, arr2):\n",
    "     doubled_arr2 = arr2 * 2\n",
    "    \n",
    "     interleaved_array = np.empty(arr1.size + doubled_arr2.size, dtype=arr1.dtype)\n",
    "     interleaved_array[0::2] = arr1\n",
    "     interleaved_array[1::2] = doubled_arr2\n",
    "     \n",
    "     return interleaved_array\n",
    "\n",
    "def numpy_116():\n",
    "    # This line is mandatory and should not be removed.\n",
    "    ex_stat_init = True\n",
    "\n",
    "    # BELOW GOES YOUR CODE\n",
    "\n",
    "    # ABOVE GOES YOUR CODE\n",
    "    return {\"interleave_double_numpy\": interleave_double_numpy}\n",
    "\n",
    "numpy_116()"
   ]
  },
  {
   "cell_type": "code",
   "execution_count": 118,
   "metadata": {
    "ExecuteTime": {
     "end_time": "2024-11-13T08:06:19.576024Z",
     "start_time": "2024-11-13T08:06:19.572712Z"
    }
   },
   "outputs": [
    {
     "data": {
      "text/plain": [
       "{'group_count_numpy': <function __main__.group_count_numpy(str_arr)>}"
      ]
     },
     "execution_count": 118,
     "metadata": {},
     "output_type": "execute_result"
    }
   ],
   "source": [
    "# Write a function `group_count_numpy` that takes a NumPy array of strings `str_arr`. Use NumPy to group by length, calculate the occurrence count of each length, and return a dictionary with lengths as keys and counts as values.\n",
    "@check_numpy_117\n",
    "def group_count_numpy (str_arr):\n",
    "    lengths = np.vectorize(len)(str_arr) \n",
    "    unique_lengths, counts = np.unique(lengths, return_counts=True) \n",
    "    length_count_dict = dict(zip(unique_lengths, counts))\n",
    "    return length_count_dict\n",
    "    \n",
    "def numpy_117():\n",
    "    # This line is mandatory and should not be removed.\n",
    "    ex_stat_init = True\n",
    "\n",
    "    # BELOW GOES YOUR CODE\n",
    "\n",
    "    # ABOVE GOES YOUR CODE\n",
    "    return {\"group_count_numpy\": group_count_numpy}\n",
    "\n",
    "numpy_117()"
   ]
  },
  {
   "cell_type": "code",
   "execution_count": 119,
   "metadata": {
    "ExecuteTime": {
     "end_time": "2024-11-13T08:06:19.631441Z",
     "start_time": "2024-11-13T08:06:19.627433Z"
    }
   },
   "outputs": [
    {
     "data": {
      "text/plain": [
       "{'remove_false_combine_numpy': <function __main__.remove_false_combine_numpy(bool_arr1, bool_arr2)>}"
      ]
     },
     "execution_count": 119,
     "metadata": {},
     "output_type": "execute_result"
    }
   ],
   "source": [
    "# Create a function `remove_false_combine_numpy` that processes two NumPy boolean arrays `bool_arr1` and `bool_arr2`. Remove `False` entries using NumPy, concatenate them, and return the combined array.\n",
    "@check_numpy_118\n",
    "def remove_false_combine_numpy (bool_arr1, bool_arr2):\n",
    "    removed_array1 = bool_arr1[bool_arr1 == True]\n",
    "    removed_array2 = bool_arr2[bool_arr2 == True]\n",
    "    concatenated_array = np.concatenate ((removed_array1, removed_array2))\n",
    "    return concatenated_array\n",
    "\n",
    "def numpy_118():\n",
    "    # This line is mandatory and should not be removed.\n",
    "    ex_stat_init = True\n",
    "\n",
    "    # BELOW GOES YOUR CODE\n",
    "\n",
    "    # ABOVE GOES YOUR CODE\n",
    "    return {\"remove_false_combine_numpy\": remove_false_combine_numpy}\n",
    "\n",
    "numpy_118()"
   ]
  },
  {
   "cell_type": "code",
   "execution_count": 120,
   "metadata": {
    "ExecuteTime": {
     "end_time": "2024-11-13T08:06:19.667740Z",
     "start_time": "2024-11-13T08:06:19.664542Z"
    }
   },
   "outputs": [
    {
     "data": {
      "text/plain": [
       "{'check_palindrome_reverse_numpy': <function __main__.check_palindrome_reverse_numpy(strs)>}"
      ]
     },
     "execution_count": 120,
     "metadata": {},
     "output_type": "execute_result"
    }
   ],
   "source": [
    "# Develop a function `check_palindrome_reverse_numpy` that takes a NumPy array of strings `strs`, uses NumPy to filter out non-alphabetic, checks for palindromes, and returns the strings in reverse order.\n",
    "@check_numpy_119\n",
    "def is_palindrome (input_string):\n",
    "\tnew_string = \"\"\n",
    "\treverse_string = \"\"\n",
    "\tfor string in input_string.lower():\n",
    "\t\tif string.replace(\" \",\"\"):\n",
    "\t\t\tnew_string = string + new_string\n",
    "\t\t\treverse_string = string + reverse_string\n",
    "\tif new_string[::-1]==reverse_string:\n",
    "\t\treturn True\n",
    "\treturn False\n",
    "\n",
    "def check_palindrome_reverse_numpy (strs):\n",
    "     palindromes = np.array([s for s in strs if is_palindrome(s)]) \n",
    "     return palindromes[::-1]\n",
    "def numpy_119():\n",
    "    # This line is mandatory and should not be removed.\n",
    "    ex_stat_init = True\n",
    "\n",
    "    # BELOW GOES YOUR CODE\n",
    "\n",
    "    # ABOVE GOES YOUR CODE\n",
    "    return {\"check_palindrome_reverse_numpy\": check_palindrome_reverse_numpy}\n",
    "\n",
    "numpy_119()"
   ]
  },
  {
   "cell_type": "code",
   "execution_count": 121,
   "metadata": {
    "ExecuteTime": {
     "end_time": "2024-11-13T08:06:19.722954Z",
     "start_time": "2024-11-13T08:06:19.719676Z"
    }
   },
   "outputs": [
    {
     "data": {
      "text/plain": [
       "{'find_duplicates_unique_numpy': <function __main__.find_duplicates_unique_numpy(elements)>}"
      ]
     },
     "execution_count": 121,
     "metadata": {},
     "output_type": "execute_result"
    }
   ],
   "source": [
    "# Implement a function `find_duplicates_unique_numpy` that accepts a NumPy array `elements`, identifies duplicates using NumPy, separates from unique elements, and returns a tuple of duplicate and unique arrays.\n",
    "@check_numpy_120\n",
    "def find_duplicates_unique_numpy (elements):\n",
    "    uniques_elements, counts = np.unique(elements, return_counts=True) \n",
    "    duplicates_elements = uniques_elements[np.where(counts > 1)]\n",
    "    print (\"Duplicates_elements:\", duplicates_elements)  \n",
    "    print (\"Uniques_elements:\", uniques_elements) \n",
    "def numpy_120():\n",
    "    # This line is mandatory and should not be removed.\n",
    "    ex_stat_init = True\n",
    "\n",
    "    # BELOW GOES YOUR CODE\n",
    "\n",
    "    # ABOVE GOES YOUR CODE\n",
    "    return {\"find_duplicates_unique_numpy\": find_duplicates_unique_numpy}\n",
    "\n",
    "numpy_120()"
   ]
  },
  {
   "cell_type": "code",
   "execution_count": 122,
   "metadata": {
    "ExecuteTime": {
     "end_time": "2024-11-13T08:06:19.766852Z",
     "start_time": "2024-11-13T08:06:19.763476Z"
    }
   },
   "outputs": [
    {
     "data": {
      "text/plain": [
       "{'scale_match_numpy': <function __main__.scale_match_numpy(arr_a, arr_b)>}"
      ]
     },
     "execution_count": 122,
     "metadata": {},
     "output_type": "execute_result"
    }
   ],
   "source": [
    "# Write a function `scale_match_numpy` that takes two NumPy arrays `arr_a` and `arr_b`, scales each by their respective maximum with NumPy, and returns `True` if they are identical, otherwise `False`.\n",
    "@check_numpy_121\n",
    "def scale_match_numpy (arr_a, arr_b):\n",
    "    scale_a = arr_a / (np.max(arr_a))\n",
    "    scale_b = arr_b / (np.max(arr_b))\n",
    "    return np.array_equal(scale_a, scale_b)\n",
    "\n",
    "def numpy_121():\n",
    "    # This line is mandatory and should not be removed.\n",
    "    ex_stat_init = True\n",
    "\n",
    "    # BELOW GOES YOUR CODE\n",
    "\n",
    "    # ABOVE GOES YOUR CODE\n",
    "    return {\"scale_match_numpy\": scale_match_numpy}\n",
    "\n",
    "numpy_121()"
   ]
  },
  {
   "cell_type": "code",
   "execution_count": 123,
   "metadata": {
    "ExecuteTime": {
     "end_time": "2024-11-13T08:06:19.808575Z",
     "start_time": "2024-11-13T08:06:19.805260Z"
    }
   },
   "outputs": [
    {
     "data": {
      "text/plain": [
       "{'calculate_ratios_sort_numpy': <function __main__.calculate_ratios_sort_numpy(numers, denoms)>}"
      ]
     },
     "execution_count": 123,
     "metadata": {},
     "output_type": "execute_result"
    }
   ],
   "source": [
    "# Create a function `calculate_ratios_sort_numpy` that takes two NumPy arrays `numers` and `denoms`. Calculate ratios using NumPy, sort them, and return a new array of sorted ratios.\n",
    "@check_numpy_122\n",
    "def calculate_ratios_sort_numpy (numers, denoms):\n",
    "    rations_array = np.divide(numers, denoms)\n",
    "    sorted_rations = np.sort(rations_array)\n",
    "    return sorted_rations\n",
    "\n",
    "def numpy_122():\n",
    "    # This line is mandatory and should not be removed.\n",
    "    ex_stat_init = True\n",
    "\n",
    "    # BELOW GOES YOUR CODE\n",
    "\n",
    "    # ABOVE GOES YOUR CODE\n",
    "    return {\"calculate_ratios_sort_numpy\": calculate_ratios_sort_numpy}\n",
    "\n",
    "numpy_122()"
   ]
  },
  {
   "cell_type": "code",
   "execution_count": 124,
   "metadata": {
    "ExecuteTime": {
     "end_time": "2024-11-13T08:06:19.862259Z",
     "start_time": "2024-11-13T08:06:19.859337Z"
    }
   },
   "outputs": [
    {
     "data": {
      "text/plain": [
       "{'decode_filter_numpy': <function __main__.decode_filter_numpy(codes)>}"
      ]
     },
     "execution_count": 124,
     "metadata": {},
     "output_type": "execute_result"
    }
   ],
   "source": [
    "# Develop a function `decode_filter_numpy` that processes a NumPy array `codes`, decodes using NumPy string operations, filters messages containing digits, and returns the cleaned array.\n",
    "@check_numpy_123\n",
    "def decode_filter_numpy (codes):\n",
    "    mask = np.char.find(codes, '0') == -1  \n",
    "    for digit in '123456789':\n",
    "        mask &= np.char.find(codes, digit) == -1  \n",
    "        \n",
    "    cleaned_array = codes[mask]\n",
    "    return cleaned_array\n",
    "\n",
    "def numpy_123():\n",
    "    # This line is mandatory and should not be removed.\n",
    "    ex_stat_init = True\n",
    "\n",
    "    # BELOW GOES YOUR CODE\n",
    "\n",
    "    # ABOVE GOES YOUR CODE\n",
    "    return {\"decode_filter_numpy\": decode_filter_numpy}\n",
    "\n",
    "numpy_123()"
   ]
  },
  {
   "cell_type": "code",
   "execution_count": 125,
   "metadata": {
    "ExecuteTime": {
     "end_time": "2024-11-13T08:06:19.904520Z",
     "start_time": "2024-11-13T08:06:19.901960Z"
    }
   },
   "outputs": [
    {
     "data": {
      "text/plain": [
       "{'sync_sum_json_numpy': <function __main__.sync_sum_json_numpy(data1, data2)>}"
      ]
     },
     "execution_count": 125,
     "metadata": {},
     "output_type": "execute_result"
    }
   ],
   "source": [
    "# Implement a function `sync_sum_json_numpy` that takes two JSON-like dictionaries `data1` and `data2`, synchronizes with NumPy by common keys, sums values, and returns the resulting dictionary.\n",
    "@check_numpy_124\n",
    "def sync_sum_json_numpy (data1, data2):\n",
    "    common_keys = set(data1.keys()).intersection(data2.keys())\n",
    "    result = {\n",
    "        key : np.add(data1[key], data2[key])\n",
    "        for key in common_keys\n",
    "    }\n",
    "    \n",
    "def numpy_124():\n",
    "    # This line is mandatory and should not be removed.\n",
    "    ex_stat_init = True\n",
    "\n",
    "    # BELOW GOES YOUR CODE\n",
    "\n",
    "    # ABOVE GOES YOUR CODE\n",
    "    return {\"sync_sum_json_numpy\": sync_sum_json_numpy}\n",
    "\n",
    "numpy_124()"
   ]
  },
  {
   "cell_type": "code",
   "execution_count": 126,
   "metadata": {
    "ExecuteTime": {
     "end_time": "2024-11-13T08:06:19.958235Z",
     "start_time": "2024-11-13T08:06:19.954718Z"
    }
   },
   "outputs": [
    {
     "data": {
      "text/plain": [
       "{'tokenize_compare_numpy': <function __main__.tokenize_compare_numpy(para1, para2)>}"
      ]
     },
     "execution_count": 126,
     "metadata": {},
     "output_type": "execute_result"
    }
   ],
   "source": [
    "# Write a function `tokenize_compare_numpy` that takes two NumPy string arrays `para1` and `para2`, tokenizes using NumPy, calculates the set difference with NumPy, and returns a list of unique words in one array.\n",
    "@check_numpy_125\n",
    "def tokenize_compare_numpy (para1, para2):\n",
    "    token1 = np.char.split(para1)\n",
    "    token2 = np.char.split(para2)\n",
    "    \n",
    "    token_set1 = set(np.concatenate(token1))\n",
    "    token_set2 = set(np.concatenate(token2))\n",
    "    \n",
    "    unique_words = token_set1.difference(token_set2)\n",
    "    return unique_words\n",
    "\n",
    "def numpy_125():\n",
    "    # This line is mandatory and should not be removed.\n",
    "    ex_stat_init = True\n",
    "\n",
    "    # BELOW GOES YOUR CODE\n",
    "\n",
    "    # ABOVE GOES YOUR CODE\n",
    "    return {\"tokenize_compare_numpy\": tokenize_compare_numpy}\n",
    "\n",
    "numpy_125()"
   ]
  }
 ],
 "metadata": {
  "kernelspec": {
   "display_name": "excalibur",
   "language": "python",
   "name": "python3"
  },
  "language_info": {
   "codemirror_mode": {
    "name": "ipython",
    "version": 3
   },
   "file_extension": ".py",
   "mimetype": "text/x-python",
   "name": "python",
   "nbconvert_exporter": "python",
   "pygments_lexer": "ipython3",
   "version": "3.12.5"
  }
 },
 "nbformat": 4,
 "nbformat_minor": 2
}
